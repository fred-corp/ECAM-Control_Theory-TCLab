{
 "cells": [
  {
   "cell_type": "markdown",
   "id": "9fbc58dc",
   "metadata": {},
   "source": [
    "# SIMULATION_CLP_PID_FF"
   ]
  },
  {
   "cell_type": "markdown",
   "id": "c3201b39",
   "metadata": {},
   "source": [
    "## IMPORT"
   ]
  },
  {
   "cell_type": "code",
   "execution_count": null,
   "id": "51e7dd8d",
   "metadata": {},
   "outputs": [],
   "source": []
  },
  {
   "cell_type": "markdown",
   "id": "fae88abe",
   "metadata": {},
   "source": [
    "## SIMULATION PARAMETERS"
   ]
  },
  {
   "cell_type": "code",
   "execution_count": null,
   "id": "ec664e33",
   "metadata": {},
   "outputs": [],
   "source": [
    "TSim = \n",
    "Ts = \n",
    "N = int(TSim/Ts) + 1\n",
    "\n",
    "# Working points \n",
    "MV0 = \n",
    "DV0 = \n",
    "PV0 = \n",
    "\n",
    "# Parameters for input-output dynamics\n",
    "Kp = \n",
    "T1p = \n",
    "T2p = \n",
    "Thetap = \n",
    "\n",
    "# Parameters for disturbance dynamics\n",
    "Kd = \n",
    "T1d = \n",
    "T2d = \n",
    "Thetad = \n",
    "\n",
    "# Parameters for the PID controller \n",
    "gamma = \n",
    "Tc = gamma * T1p\n",
    "Kc, Ti, Td = IMC_Tuning(Kp, thetap, Tc, T1p, T2p)"
   ]
  }
 ],
 "metadata": {
  "kernelspec": {
   "display_name": "Python 3 (ipykernel)",
   "language": "python",
   "name": "python3"
  },
  "language_info": {
   "codemirror_mode": {
    "name": "ipython",
    "version": 3
   },
   "file_extension": ".py",
   "mimetype": "text/x-python",
   "name": "python",
   "nbconvert_exporter": "python",
   "pygments_lexer": "ipython3",
   "version": "3.9.7"
  }
 },
 "nbformat": 4,
 "nbformat_minor": 5
}
