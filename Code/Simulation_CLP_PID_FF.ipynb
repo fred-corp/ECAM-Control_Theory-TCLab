{
 "cells": [
  {
   "cell_type": "markdown",
   "id": "9fbc58dc",
   "metadata": {},
   "source": [
    "# PID with FF simulation"
   ]
  },
  {
   "cell_type": "markdown",
   "id": "c3201b39",
   "metadata": {},
   "source": [
    "## Import libs"
   ]
  },
  {
   "cell_type": "code",
   "execution_count": 12,
   "id": "51e7dd8d",
   "metadata": {},
   "outputs": [],
   "source": [
    "import pandas as pd\n",
    "import matplotlib.pyplot as plt\n",
    "from ipywidgets import interact, interactive, fixed, interact_manual\n",
    "import ipywidgets as widgets\n",
    "import numpy as np\n",
    "from scipy.optimize import minimize\n",
    "\n",
    "import package_DBR\n",
    "from package_LAB import *\n",
    "from package_DBR import *"
   ]
  },
  {
   "cell_type": "markdown",
   "id": "fae88abe",
   "metadata": {},
   "source": [
    "## Simulation params"
   ]
  },
  {
   "cell_type": "code",
   "execution_count": 15,
   "id": "ec664e33",
   "metadata": {},
   "outputs": [],
   "source": [
    "TSim = 2200\n",
    "Ts = 1.0\n",
    "\n",
    "# Initial working points \n",
    "MV0 = 50\n",
    "DV0 = 50\n",
    "PV0 = 75\n",
    "\n",
    "# Paths\n",
    "SPPath = {0: PV0, 800: PV0-10, TSim: PV0-10}\n",
    "DVPath = {0: DV0, 1500: DV0+10, TSim: DV0+10}\n",
    "manPath = {0: True, 750 : False, TSim: False}\n",
    "manMVPath = {0: MV0, TSim: MV0}\n",
    "\n",
    "# Parameters for input-output dynamics\n",
    "Kp = 0.57\n",
    "T1p = 172.4\n",
    "T2p = 2.8\n",
    "Thetap = 2.0\n",
    "\n",
    "# Parameters for disturbance dynamics\n",
    "Kd = 0.29\n",
    "T1d = 127.9\n",
    "T2d = 21.8\n",
    "Thetad = 12.4\n",
    "\n",
    "# Parameters for the PID controller \n",
    "alpha = 0.5\n",
    "gamma = 0.4\n",
    "Tc = gamma * T1p\n",
    "Kc, Ti, Td = IMC_Tuning(Kp, Thetap, Tc, T1p, T2p)\n",
    "discretisation = [\"TRAP\", \"TRAP\"]\n"
   ]
  },
  {
   "cell_type": "markdown",
   "id": "d76c3f06",
   "metadata": {},
   "source": [
    "## Determine PID gains with IMC tuning"
   ]
  },
  {
   "cell_type": "code",
   "execution_count": 16,
   "id": "1ee21a43",
   "metadata": {},
   "outputs": [
    {
     "name": "stdout",
     "output_type": "stream",
     "text": [
      "Kc = 4.331573013706759, ti = 175.20000000000002, td = 2.755251141552511\n"
     ]
    }
   ],
   "source": [
    "Kc = 0\n",
    "Ti = 0\n",
    "Td = 0\n",
    "\n",
    "Kc,Ti,Td = IMC_Tuning(Kp, Tc, Thetap, T1p, T2p)\n",
    "print(\"Kc = {}, ti = {}, td = {}\".format(Kc, Ti, Td))"
   ]
  },
  {
   "cell_type": "markdown",
   "id": "a0ccc664",
   "metadata": {},
   "source": [
    "## Simulate"
   ]
  },
  {
   "cell_type": "code",
   "execution_count": 18,
   "id": "11bb4713",
   "metadata": {},
   "outputs": [
    {
     "data": {
      "image/png": "[encoded data removed]",
      "text/plain": [
       "<Figure size 1080x720 with 1 Axes>"
      ]
     },
     "metadata": {
      "needs_background": "light"
     },
     "output_type": "display_data"
    }
   ],
   "source": [
    "PV = []\n",
    "MV = {\"MV\" : [], \"MVp\" : [], \"MVi\": [],  \"MVd\": [], \"E\" : []}\n",
    "\n",
    "N = int(TSim/Ts)+1\n",
    "\n",
    "t = []\n",
    "SP = []\n",
    "DV = []\n",
    "\n",
    "Man = []\n",
    "MVMan = []\n",
    "MVFF = []\n",
    "\n",
    "MVFFDelay = []\n",
    "MVFFLL1 = []\n",
    "\n",
    "MVDelay = []\n",
    "PV1p = []\n",
    "PV2p = []\n",
    "ActivateFF = True\n",
    "\n",
    "DVDelay = []\n",
    "PV1d = []\n",
    "PV2d = []\n",
    "  \n",
    "#def PID_RT(PV, SP, MV, Ts, Kc, Ti, Td, alpha, \n",
    "#          approximationType, PVinit=0, man=False, manMV=[0], FF_MV=[0], FF_MV_init=0, MVmin=0, MVmax=100):\n",
    "    \n",
    "for i in range(0, N):\n",
    "    \n",
    "    t.append(i*Ts)\n",
    "\n",
    "    # Input signal SP and DV\n",
    "    SelectPath_RT(SPPath,t,SP)\n",
    "    SelectPath_RT(DVPath,t,DV)\n",
    "\n",
    "    # FeedForward\n",
    "    Delay_RT(DV-DV0*np.ones_like(DV), np.max([Thetad-Thetap,0]),Ts,MVFFDelay)\n",
    "    LeadLag_RT(MVFFDelay,-Kd/Kp, T1d, T1p, Ts, MVFFLL1)\n",
    "    if ActivateFF:\n",
    "        LeadLag_RT(MVFFLL1, 1, T2d, T2p, Ts, MVFF)\n",
    "    else:\n",
    "        LeadLag_RT(MVFFLL1, 0, T2d, T2p, Ts, MVFF)\n",
    "    \n",
    "    # PID controller mode\n",
    "    SelectPath_RT(manPath,t,Man)\n",
    "    SelectPath_RT(manMVPath, t, MVMan)\n",
    "    \n",
    "    # PID controller\n",
    "    PID_OUT = PID_RT(PV, SP[i], MV, Ts, Kc, Ti, Td, alpha, discretisation, PVinit=PV0, man=Man[i], manMV=MVMan)\n",
    "    MV[\"MV\"].append(PID_OUT[\"MV\"])\n",
    "    MV[\"MVp\"].append(PID_OUT[\"MVp\"])\n",
    "    MV[\"MVi\"].append(PID_OUT[\"MVi\"])\n",
    "    MV[\"MVd\"].append(PID_OUT[\"MVd\"])\n",
    "    MV[\"E\"].append(PID_OUT[\"E\"])\n",
    "\n",
    "    # Process Dynamics\n",
    "    Delay_RT(MV[\"MV\"], Thetap, Ts, MVDelay, MV0)\n",
    "    FO_RT(MVDelay, Kp, T1p, Ts, PV1p, 0)\n",
    "    FO_RT(PV1p, 1, T2p, Ts, PV2p, 0)\n",
    "\n",
    "    # Disturbance dynamics\n",
    "    Delay_RT(DV - DV0*np.ones_like(DV), Thetad, Ts, DVDelay, 0)\n",
    "    FO_RT(DVDelay, Kd, T1d, Ts, PV1d, 0)\n",
    "    FO_RT(PV1d, 1, T2d, Ts, PV2d, 0)\n",
    "\n",
    "    PV.append(PV2p[-1] + PV2d[-1] + PV0 - Kp * MV0)\n",
    "    #print(\"PV2p[-1]= {}, PV2d[-1] = {}, PV0 = {}, Kp = {}, MV0 = {}\".format(PV2p[-1],PV2d[-1] ,PV0 , Kp , MV0))\n",
    "    \n",
    "  \n",
    "\n",
    "f = plt.figure()\n",
    "f.set_figwidth(15)\n",
    "f.set_figheight(10)\n",
    "\n",
    "plt.step(t, np.array(SP), label='Setpoints')\n",
    "plt.step(t, np.array(Man), label='MV')\n",
    "plt.step(t, np.array(MV[\"MV\"]), label='PID MV')\n",
    "plt.step(t, np.array(PV), label='PV')\n",
    "\n",
    "plt.legend(loc='upper right')\n",
    "\n",
    "plt.show()"
   ]
  },
  {
   "cell_type": "code",
   "execution_count": null,
   "id": "139753ad",
   "metadata": {},
   "outputs": [],
   "source": []
  }
 ],
 "metadata": {
  "kernelspec": {
   "display_name": "Python 3 (ipykernel)",
   "language": "python",
   "name": "python3"
  },
  "language_info": {
   "codemirror_mode": {
    "name": "ipython",
    "version": 3
   },
   "file_extension": ".py",
   "mimetype": "text/x-python",
   "name": "python",
   "nbconvert_exporter": "python",
   "pygments_lexer": "ipython3",
   "version": "3.9.7"
  }
 },
 "nbformat": 4,
 "nbformat_minor": 5
}
