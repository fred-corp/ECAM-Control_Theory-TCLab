{
 "cells": [
  {
   "cell_type": "markdown",
   "id": "2f440cfb-00f2-48d0-b9ff-4d06e96df02c",
   "metadata": {},
   "source": [
    "# package_DBR"
   ]
  },
  {
   "cell_type": "code",
   "execution_count": null,
   "id": "74f11716-40ec-4a17-a482-186c7f6135cc",
   "metadata": {},
   "outputs": [],
   "source": [
    "import numpy as np\n",
    "import matplotlib.pyplot as plt\n",
    "from scipy.optimize import minimize\n",
    "from matplotlib import colors as mcolors\n",
    "\n",
    "import package_DBR\n",
    "from package_DBR import myRound, SelectPath_RT, Delay_RT, FO_RT, FOPDT, SOPDT, FOPDT_cost, SOPDT_cost, Process, Bode"
   ]
  },
  {
   "cell_type": "markdown",
   "id": "aa479cff-b82c-49b6-902d-e0bc241203c9",
   "metadata": {},
   "source": [
    " # myRound()"
   ]
  },
  {
   "cell_type": "code",
   "execution_count": null,
   "id": "1a5b0474-c9ac-43c5-884f-ac32470222bc",
   "metadata": {},
   "outputs": [],
   "source": [
    "help(myRound)"
   ]
  },
  {
   "cell_type": "code",
   "execution_count": null,
   "id": "72bd46c6-e695-43c7-b9f0-1c0f22186cf0",
   "metadata": {},
   "outputs": [],
   "source": [
    "print(myRound(19.3,6))\n",
    "print(myRound(21.5,6))"
   ]
  },
  {
   "cell_type": "markdown",
   "id": "821ecf09-1ab6-4e91-9019-95e2f2fb60a7",
   "metadata": {},
   "source": [
    "# SelectPath_RT()"
   ]
  },
  {
   "cell_type": "code",
   "execution_count": null,
   "id": "b09e3f35-c217-4e24-8704-c8b4696c5b76",
   "metadata": {},
   "outputs": [],
   "source": [
    "help(SelectPath_RT)"
   ]
  },
  {
   "cell_type": "code",
   "execution_count": null,
   "id": "7feaccf7-85b4-47e5-b4c7-3a5ba2f5170e",
   "metadata": {},
   "outputs": [],
   "source": [
    "TSim = 100\n",
    "Ts = 0.1\n",
    "N = int(TSim/Ts) + 1\n",
    "\n",
    "# Path for MV and MVMan\n",
    "MVPath = {0: 0, 5: 1, 50: 2, 80: 3, TSim: 3}\n",
    "ManPath = {0: False, 5: False, 50: True, 80: False, TSim: False}\n",
    "\n",
    "t = []\n",
    "MV = []\n",
    "Man = []\n",
    "\n",
    "for i in range(0,N):\n",
    "    t.append(i*Ts)\n",
    "    SelectPath_RT(MVPath,t,MV)\n",
    "    SelectPath_RT(ManPath,t,Man)    \n",
    "    \n",
    "plt.figure(figsize = (15,9))\n",
    "\n",
    "plt.step(t,MV,'b-',label='MV',where='post')\n",
    "plt.step(t,Man,'skyblue',label='Man',where='post')\n",
    "plt.ylabel('Value of MV')\n",
    "plt.legend(loc='best')\n",
    "plt.title('Path response')\n",
    "plt.xlim([0, TSim])\n",
    "\n",
    "print(Man[0:10])"
   ]
  },
  {
   "cell_type": "markdown",
   "id": "8ff5bcfd-cd96-40d9-a39b-b96e24ba1ee9",
   "metadata": {},
   "source": [
    "# Delay_RT()"
   ]
  },
  {
   "cell_type": "code",
   "execution_count": null,
   "id": "6cf53230-bd7c-4720-827e-1466d6e9b0c7",
   "metadata": {},
   "outputs": [],
   "source": [
    "help(Delay_RT)"
   ]
  },
  {
   "cell_type": "code",
   "execution_count": null,
   "id": "ce964546-df8d-493a-be6a-94b2995cfd1b",
   "metadata": {},
   "outputs": [],
   "source": [
    "TSim = 100\n",
    "Ts = 0.1\n",
    "N = int(TSim/Ts) + 1\n",
    "\n",
    "# Path for MV\n",
    "MVPath = {0: 0, 5: 1, 50: 2, 80: 3, TSim: 3}\n",
    "\n",
    "t = []\n",
    "MV = []\n",
    "MVDelay = []\n",
    "\n",
    "# Parameters\n",
    "theta = 10\n",
    "\n",
    "for i in range(0,N):\n",
    "    t.append(i*Ts)\n",
    "    SelectPath_RT(MVPath,t,MV)\n",
    "    Delay_RT(MV,theta,Ts,MVDelay)    \n",
    "    \n",
    "plt.figure(figsize = (15,9))\n",
    "\n",
    "plt.step(t,MV,'b-',label='MV',where='post')\n",
    "plt.step(t,MVDelay,'b-',linewidth=0.5,label='MV plus delay',where='post')\n",
    "plt.ylabel('Value of MV')\n",
    "plt.title('Delay response')\n",
    "plt.legend(loc='best')\n",
    "plt.xlim([0, TSim])   "
   ]
  },
  {
   "cell_type": "markdown",
   "id": "8a6bcbdc-0e37-4c2c-9dde-947c6495680f",
   "metadata": {},
   "source": [
    "# FO_RT()"
   ]
  },
  {
   "cell_type": "code",
   "execution_count": null,
   "id": "eb34011a-4b3c-4fb1-be02-9d99501b7b85",
   "metadata": {},
   "outputs": [],
   "source": [
    "help(FO_RT)"
   ]
  },
  {
   "cell_type": "code",
   "execution_count": null,
   "id": "f80f4e9a-f748-46c4-8db8-7ac1d4168359",
   "metadata": {},
   "outputs": [],
   "source": [
    "TSim = 100\n",
    "Ts = 1\n",
    "N = int(TSim/Ts) + 1\n",
    "\n",
    "# Path for MV\n",
    "MVPath = {0: 0, 5: 1, 50: 2, 80: 3, TSim: 3}\n",
    "\n",
    "t = []\n",
    "MV = []\n",
    "MVDelay = []\n",
    "PV_EBD = []\n",
    "PV_EFD = []\n",
    "PV_TRAP = []\n",
    "\n",
    "# Parameters\n",
    "Kp = 1\n",
    "T = 5\n",
    "theta = 10\n",
    "\n",
    "for i in range(0,N):\n",
    "    t.append(i*Ts)\n",
    "    SelectPath_RT(MVPath,t,MV)\n",
    "    Delay_RT(MV,theta,Ts,MVDelay)\n",
    "    FO_RT(MVDelay,Kp,T,Ts,PV_EBD)\n",
    "    FO_RT(MVDelay,Kp,T,Ts,PV_EFD,0,'EFD')\n",
    "    FO_RT(MVDelay,Kp,T,Ts,PV_TRAP,0,'TRAP')\n",
    "    \n",
    "plt.figure(figsize = (15,9))\n",
    "\n",
    "plt.subplot(2,1,1)\n",
    "plt.step(t,MV,'b-',label='MV',where='post')\n",
    "plt.step(t,MVDelay,'b-',linewidth=0.5,label='MV plus delay',where='post')\n",
    "plt.ylabel('Value of MV')\n",
    "plt.title('First order plus delay response')\n",
    "plt.legend(loc='best')\n",
    "plt.xlim([0, TSim])\n",
    "\n",
    "plt.subplot(2,1,2)\n",
    "plt.step(t,PV_EBD,'g-',label='First order response plus delay (EBD)',where='post')\n",
    "plt.step(t,PV_EFD,'lime',label='First order response plus delay (EFD)',where='post')\n",
    "plt.step(t,PV_TRAP,'springgreen',label='First order response plus delay (TRAP)',where='post')\n",
    "plt.ylabel('Value of PV')\n",
    "plt.xlabel('Time [s]')\n",
    "plt.legend(loc='best')\n",
    "plt.xlim([0, TSim])    "
   ]
  },
  {
   "cell_type": "markdown",
   "id": "0a0a4c90-74d2-4d64-9fc3-69cfa8ebd1f0",
   "metadata": {},
   "source": [
    "# FOPDT()"
   ]
  },
  {
   "cell_type": "code",
   "execution_count": null,
   "id": "49c34707-fbc5-4cc6-91a8-9813f48aa086",
   "metadata": {},
   "outputs": [],
   "source": [
    "help(FOPDT)"
   ]
  },
  {
   "cell_type": "code",
   "execution_count": null,
   "id": "51a5a49e-2d80-4c7b-9ec5-87136a08f6a2",
   "metadata": {},
   "outputs": [],
   "source": [
    "TSim = 100\n",
    "Ts = 0.1\n",
    "N = int(TSim/Ts) + 1\n",
    "\n",
    "# Path for MV\n",
    "MVPath = {0: 0, 5: 1, 50: 2, 80: 3, TSim: 3}\n",
    "\n",
    "t = []\n",
    "MV = []\n",
    "\n",
    "# Parameters\n",
    "Kp = 1\n",
    "T = 5\n",
    "theta = 10\n",
    "\n",
    "# MV is created from MVPath\n",
    "for i in range(0,N):\n",
    "    t.append(i*Ts)\n",
    "    SelectPath_RT(MVPath,t,MV)\n",
    "    \n",
    "PV = FOPDT(MV,Kp,T,theta,Ts)\n",
    "    \n",
    "plt.figure(figsize = (15,9))\n",
    "\n",
    "plt.subplot(2,1,1)\n",
    "plt.step(t,MV,'b-',label='MV',where='post')\n",
    "plt.ylabel('Value of MV')\n",
    "plt.title('First order plus delay response')\n",
    "plt.legend(loc='best')\n",
    "plt.xlim([0, TSim])\n",
    "\n",
    "plt.subplot(2,1,2)\n",
    "plt.step(t,PV,'g-',label='First order response plus delay',where='post')\n",
    "plt.ylabel('Value of PV')\n",
    "plt.xlabel('Time [s]')\n",
    "plt.legend(loc='best')\n",
    "plt.xlim([0, TSim])    "
   ]
  },
  {
   "cell_type": "markdown",
   "id": "1824e200-c556-48bc-8d9a-2cac774e242f",
   "metadata": {},
   "source": [
    "# SOPDT()"
   ]
  },
  {
   "cell_type": "code",
   "execution_count": null,
   "id": "ee8f05b2-9077-4176-9b8b-18a1b7f0820d",
   "metadata": {},
   "outputs": [],
   "source": [
    "help(SOPDT)"
   ]
  },
  {
   "cell_type": "code",
   "execution_count": null,
   "id": "be59fdc8-1049-44a0-bc07-9992f97e8306",
   "metadata": {},
   "outputs": [],
   "source": [
    "TSim = 100\n",
    "Ts = 0.1\n",
    "N = int(TSim/Ts) + 1\n",
    "\n",
    "# Path for MV\n",
    "MVPath = {0: 0, 5: 1, 50: 2, 80: 3, TSim: 3}\n",
    "\n",
    "t = []\n",
    "MV = []\n",
    "\n",
    "# Parameters\n",
    "Kp = 1.0\n",
    "theta = 5.0\n",
    "T1 = 5.0\n",
    "T2 = 2.0\n",
    "\n",
    "# MV is created from MVPath\n",
    "for i in range(0,N):\n",
    "    t.append(i*Ts)\n",
    "    SelectPath_RT(MVPath,t,MV)\n",
    "    \n",
    "PVFOPDT = FOPDT(MV,Kp,T1,theta,Ts)\n",
    "PVSOPDT = SOPDT(MV,Kp,T1,T2,theta,Ts)\n",
    "    \n",
    "plt.figure(figsize = (15,9))\n",
    "\n",
    "plt.subplot(2,1,1)\n",
    "plt.step(t,MV,'b-',label='MV',where='post')\n",
    "plt.ylabel('Value of MV')\n",
    "plt.title('Second order plus delay response')\n",
    "plt.legend(loc='best')\n",
    "plt.xlim([0, TSim])\n",
    "\n",
    "plt.subplot(2,1,2)\n",
    "plt.step(t,PVSOPDT,'g-',label='Second order response plus delay',where='post')\n",
    "plt.step(t,PVFOPDT,'springgreen',label='First order response plus delay',where='post')\n",
    "plt.ylabel('Value of PV')\n",
    "plt.xlabel('Time [s]')\n",
    "plt.legend(loc='best')\n",
    "plt.xlim([0, TSim])    "
   ]
  },
  {
   "cell_type": "markdown",
   "id": "993b22d7-12b4-4581-b9e7-d85358a207a8",
   "metadata": {},
   "source": [
    "# FOPDT_cost() and identification of a FOPDT model"
   ]
  },
  {
   "cell_type": "code",
   "execution_count": null,
   "id": "9dc15dae-6aa6-40ad-8174-3be68c199f8f",
   "metadata": {},
   "outputs": [],
   "source": [
    "help(FOPDT_cost)"
   ]
  },
  {
   "cell_type": "code",
   "execution_count": null,
   "id": "2ea57f03-ecd9-47e8-8cc7-7590aeb476d0",
   "metadata": {},
   "outputs": [],
   "source": [
    "MVm = MV\n",
    "PVm = PVFOPDT\n",
    "# PVm = PVSOPDT\n",
    "\n",
    "# Initial values\n",
    "p0 = np.zeros(3)\n",
    "p0[0] = 1.1 # K\n",
    "p0[1] = 10.0 # T\n",
    "p0[2] = 2.0 # theta\n",
    "\n",
    "# Bounds on parameters\n",
    "bnds = ((None, None), (0, None), (0, None))\n",
    "\n",
    "cost = FOPDT_cost(p0,MVm,PVm,Ts)\n",
    "print('Initial cost: ' + str(cost))"
   ]
  },
  {
   "cell_type": "markdown",
   "id": "e7562906-9e48-40d3-ba4b-a8e65d99f696",
   "metadata": {},
   "source": [
    "### Without visualisation"
   ]
  },
  {
   "cell_type": "code",
   "execution_count": null,
   "id": "4b376961-854a-40d9-9a95-bc5daf907491",
   "metadata": {},
   "outputs": [],
   "source": [
    "solution = minimize(FOPDT_cost,p0,args=(MVm,PVm,Ts), method='Powell', bounds=bnds, options={'disp': True})\n",
    "p = solution.x\n",
    "print('Final SSE Objective: ' + str(FOPDT_cost(p,MVm,PVm,Ts)))\n",
    "\n",
    "K = p[0]\n",
    "T = p[1]\n",
    "theta  = p[2]\n",
    "\n",
    "print('K: ' + str(K))\n",
    "print('T: ' + str(T))\n",
    "print('theta: ' + str(theta))  "
   ]
  },
  {
   "cell_type": "markdown",
   "id": "d5043b63-512f-4e46-b09c-d5aba03e4fd9",
   "metadata": {},
   "source": [
    "### With visualisation (slower)"
   ]
  },
  {
   "cell_type": "code",
   "execution_count": null,
   "id": "f1b4fade-40aa-45eb-9eaf-560232efa106",
   "metadata": {},
   "outputs": [],
   "source": [
    "p0 = np.zeros(3)\n",
    "p0[0] = 1.1 # K\n",
    "p0[1] = 10.0 # T\n",
    "p0[2] = 2.0 # theta\n",
    "\n",
    "fig, ax1 = plt.subplots()\n",
    "fig.set_figheight(10)\n",
    "fig.set_figwidth(15)\n",
    "l1, = ax1.step([0,1],[0,1],'g-',linewidth=2,label='Experimental PV',where='post')\n",
    "l2, = ax1.step([0,1],[0,1],'r-',linewidth=2,label='Estimated PV',where='post')\n",
    "ax1.set_ylabel('Value of PV')\n",
    "ax1.set_title('Identification of FOPDT model')\n",
    "ax1.legend(loc='best')\n",
    "\n",
    "solution = minimize(FOPDT_cost,p0,args=(MVm,PVm,Ts,(fig,ax1,l1,l2)), method='Powell', bounds=bnds)\n",
    "p = solution.x\n",
    "print('Final SSE Objective: ' + str(FOPDT_cost(p,MVm,PVm,Ts)))\n",
    "\n",
    "K = p[0]\n",
    "T = p[1]\n",
    "theta  = p[2]\n",
    "\n",
    "print('K: ' + str(K))\n",
    "print('T: ' + str(T))\n",
    "print('theta: ' + str(theta))   "
   ]
  },
  {
   "cell_type": "markdown",
   "id": "9f811a42-b582-4f82-856f-954d508d5862",
   "metadata": {},
   "source": [
    "# SOPDT_cost() and identification of a SOPDT model"
   ]
  },
  {
   "cell_type": "code",
   "execution_count": null,
   "id": "067964a9-f842-4630-b13d-7c17c73ce03f",
   "metadata": {},
   "outputs": [],
   "source": [
    "help(SOPDT_cost)"
   ]
  },
  {
   "cell_type": "code",
   "execution_count": null,
   "id": "68cc6a1b-b778-4de4-a244-ba396bc34594",
   "metadata": {},
   "outputs": [],
   "source": [
    "MVm = MV\n",
    "PVm = PVSOPDT\n",
    "\n",
    "# Initial values\n",
    "p0 = np.zeros(4)\n",
    "p0[0] = 1.1 # K\n",
    "p0[1] = 10.0 # T\n",
    "p0[2] = 1.0 # T\n",
    "p0[3] = 2.0 # theta\n",
    "\n",
    "# Bounds on parameters\n",
    "bnds = ((None, None), (0, None), (0, None), (0, None))\n",
    "\n",
    "cost = SOPDT_cost(p0,MVm,PVm,Ts)\n",
    "print('Initial cost: ' + str(cost))"
   ]
  },
  {
   "cell_type": "markdown",
   "id": "16b54410-e9af-431b-a1d7-55d1268bd191",
   "metadata": {},
   "source": [
    "### Without visualisation"
   ]
  },
  {
   "cell_type": "code",
   "execution_count": null,
   "id": "1c9e18a3-e1b2-4e87-ae45-b9ee6983fea1",
   "metadata": {},
   "outputs": [],
   "source": [
    "solution = minimize(SOPDT_cost,p0,args=(MVm,PVm,Ts), method='Powell', bounds=bnds, options={'disp': True})\n",
    "p = solution.x\n",
    "print('Final SSE Objective: ' + str(SOPDT_cost(p,MVm,PVm,Ts)))\n",
    "\n",
    "K = p[0]\n",
    "T1 = p[1]\n",
    "T2 = p[2]\n",
    "theta  = p[3]\n",
    "\n",
    "print('K: ' + str(K))\n",
    "print('T1: ' + str(T1))\n",
    "print('T2: ' + str(T2))\n",
    "print('theta: ' + str(theta))   "
   ]
  },
  {
   "cell_type": "markdown",
   "id": "995b817c-c43d-4ec6-9f4c-36d5a7105d24",
   "metadata": {},
   "source": [
    "### With visualisation (slower)"
   ]
  },
  {
   "cell_type": "code",
   "execution_count": null,
   "id": "40591a54-d2db-46af-8e11-ac9abdc34490",
   "metadata": {},
   "outputs": [],
   "source": [
    "p0 = np.zeros(4)\n",
    "p0[0] = 1.1 # K\n",
    "p0[1] = 10.0 # T\n",
    "p0[2] = 1.0 # T\n",
    "p0[3] = 2.0 # theta\n",
    "\n",
    "fig, ax1 = plt.subplots()\n",
    "fig.set_figheight(10)\n",
    "fig.set_figwidth(15)\n",
    "l1, = ax1.step([0,1],[0,1],'g-',linewidth=2,label='Experimental PV',where='post')\n",
    "l2, = ax1.step([0,1],[0,1],'r-',linewidth=2,label='Estimated PV',where='post')\n",
    "ax1.set_ylabel('Value of PV')\n",
    "ax1.set_title('Identification of SOPDT model')\n",
    "ax1.legend(loc='best')\n",
    "\n",
    "solution = minimize(SOPDT_cost,p0,args=(MVm,PVm,Ts,(fig,ax1,l1,l2)), method='Powell', bounds=bnds)\n",
    "p = solution.x\n",
    "print('Final SSE Objective: ' + str(SOPDT_cost(p,MVm,PVm,Ts)))\n",
    "\n",
    "K = p[0]\n",
    "T1 = p[1]\n",
    "T2 = p[2]\n",
    "theta  = p[3]\n",
    "\n",
    "print('K: ' + str(K))\n",
    "print('T1: ' + str(T1))\n",
    "print('T2: ' + str(T2))\n",
    "print('theta: ' + str(theta))   "
   ]
  },
  {
   "cell_type": "markdown",
   "id": "b685e486-c669-4f18-94ea-0700b02eed38",
   "metadata": {},
   "source": [
    "# Bode()"
   ]
  },
  {
   "cell_type": "code",
   "execution_count": null,
   "id": "82931bc5-5a1b-4c64-b1a4-bb121368b576",
   "metadata": {},
   "outputs": [],
   "source": [
    "help(Bode)"
   ]
  },
  {
   "cell_type": "code",
   "execution_count": null,
   "id": "32adf688-df96-4d00-a9e4-3c555c50a50c",
   "metadata": {},
   "outputs": [],
   "source": [
    "P = Process({}) # Default process = unit gain\n",
    "\n",
    "# Parameters for input-output dynamics P(s)\n",
    "P.parameters['Kp'] = 0.63\n",
    "P.parameters['Tlag1'] = 146.0\n",
    "P.parameters['Tlag2'] = 1.0\n",
    "P.parameters['theta'] = 1.0\n",
    "\n",
    "omega = np.logspace(-4, 1, 10000)\n",
    "\n",
    "Bode(P,omega)"
   ]
  },
  {
   "cell_type": "code",
   "execution_count": null,
   "id": "c54323e6-4607-42d0-85ae-2b752a6d5c2d",
   "metadata": {},
   "outputs": [],
   "source": [
    "Ps = Bode(P,omega,Show=False)"
   ]
  }
 ],
 "metadata": {
  "kernelspec": {
   "display_name": "Python 3",
   "language": "python",
   "name": "python3"
  },
  "language_info": {
   "codemirror_mode": {
    "name": "ipython",
    "version": 3
   },
   "file_extension": ".py",
   "mimetype": "text/x-python",
   "name": "python",
   "nbconvert_exporter": "python",
   "pygments_lexer": "ipython3",
   "version": "3.9.1"
  }
 },
 "nbformat": 4,
 "nbformat_minor": 5
}
