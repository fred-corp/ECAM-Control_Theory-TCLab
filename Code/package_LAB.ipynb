{
 "cells": [
  {
   "cell_type": "markdown",
   "metadata": {},
   "source": []
  },
  {
   "cell_type": "markdown",
   "metadata": {},
   "source": [
    "## Import libs"
   ]
  },
  {
   "cell_type": "code",
   "execution_count": 1,
   "metadata": {},
   "outputs": [],
   "source": [
    "import pandas as pd\n",
    "import matplotlib.pyplot as plt\n",
    "from ipywidgets import interact, interactive, fixed, interact_manual\n",
    "import ipywidgets as widgets\n",
    "import numpy as np\n",
    "from scipy.optimize import minimize\n",
    "\n",
    "import package_DBR\n",
    "from package_LAB import *\n",
    "from package_DBR import *"
   ]
  },
  {
   "cell_type": "markdown",
   "metadata": {},
   "source": [
    "## LeadLag"
   ]
  },
  {
   "cell_type": "code",
   "execution_count": 2,
   "metadata": {},
   "outputs": [
    {
     "name": "stdout",
     "output_type": "stream",
     "text": [
      "Help on function LeadLag_RT in module package_LAB:\n",
      "\n",
      "LeadLag_RT(MV, Kp, Tlag, Tlead, Ts, MVLL, PVInit=0, method='EBD')\n",
      "    The function \"FO_RT\" needs to be included in a \"for or while loop\".\n",
      "    \n",
      "    • MV: input vector\n",
      "    • Kp: process gain\n",
      "    • Tlag: lag time constant [s]\n",
      "    • Tlead: lead time constant [s]\n",
      "    • Ts: sampling period [s]\n",
      "    • MVLL: output vector\n",
      "    • PVInit: (optional: default value is 0)\n",
      "    • method: discretisation method (optional: default value is 'EBD')\n",
      "      EBD: Euler Backward difference\n",
      "      EFD: Euler Forward difference\n",
      "      TRAP: Trapezoïdal method\n",
      "    \n",
      "    The function \"FO_RT\" appends a value to the output vector \"PV\".\n",
      "    The appended value is obtained from a recurrent equation that depends on the discretisation method.\n",
      "\n"
     ]
    }
   ],
   "source": [
    "help(LeadLag_RT)"
   ]
  },
  {
   "cell_type": "markdown",
   "metadata": {},
   "source": [
    "## Params for Lead-Lag"
   ]
  },
  {
   "cell_type": "code",
   "execution_count": 3,
   "metadata": {},
   "outputs": [],
   "source": [
    "TSim = 100\n",
    "Ts = 0.1\n",
    "N = int(TSim/Ts) + 1\n",
    "\n",
    "# Path for MV\n",
    "MVPath = {0: 0, 5: 1, 50: 2, 80: 3, TSim: 3}\n",
    "\n",
    "t = []\n",
    "MV = []\n",
    "MVDelay = []\n",
    "PV_EBD = []\n",
    "PV_EFD = []\n",
    "\n",
    "# Parameters\n",
    "Kp = 1\n",
    "Tlead = 1\n",
    "Tlag = 2\n",
    "theta = 10"
   ]
  },
  {
   "cell_type": "markdown",
   "metadata": {},
   "source": [
    "## Simulate Lead-Lag response to steps"
   ]
  },
  {
   "cell_type": "code",
   "execution_count": 4,
   "metadata": {},
   "outputs": [
    {
     "data": {
      "text/plain": [
       "(0.0, 100.0)"
      ]
     },
     "execution_count": 4,
     "metadata": {},
     "output_type": "execute_result"
    },
    {
     "data": {
      "image/png": "[encoded data removed]",
      "text/plain": [
       "<Figure size 1080x648 with 2 Axes>"
      ]
     },
     "metadata": {
      "needs_background": "light"
     },
     "output_type": "display_data"
    }
   ],
   "source": [
    "for i in range(0,N):\n",
    "  t.append(i*Ts)\n",
    "  SelectPath_RT(MVPath,t,MV)\n",
    "  Delay_RT(MV,theta,Ts,MVDelay)\n",
    "  LeadLag_RT(MVDelay,Kp,Tlag,Tlead,Ts,PV_EBD)\n",
    "  #PV_EBD.append(LeadLag_RT(MVDelay,Kp,Tlag,Tlead,Ts,PV_EBD))\n",
    "  # LeadLag_RT(MVDelay,Kp,Tlag,Tlead,Ts,PV_EFD,0,'EFD')\n",
    "\n",
    "plt.figure(figsize = (15,9))\n",
    "\n",
    "plt.subplot(2,1,1)\n",
    "plt.step(t,MV,'b-',label='MV',where='post')\n",
    "plt.step(t,MVDelay,'b-',linewidth=0.5,label='MV plus delay',where='post')\n",
    "plt.ylabel('Value of MV')\n",
    "plt.title('Lead-Lag plus delay response')\n",
    "plt.legend(loc='best')\n",
    "plt.xlim([0, TSim])\n",
    "\n",
    "plt.subplot(2,1,2)\n",
    "plt.step(t,PV_EBD,'g-',label='Lead-Lag response',where='post')\n",
    "# plt.step(t,PV_EFD,'lime',label='Lead-Lag response',where='post')\n",
    "plt.ylabel('Value of PV')\n",
    "plt.xlabel('Time [s]')\n",
    "plt.legend(loc='best')\n",
    "plt.xlim([0, TSim])  "
   ]
  },
  {
   "cell_type": "markdown",
   "metadata": {},
   "source": [
    "## Lead-Lag with Widgets"
   ]
  },
  {
   "cell_type": "code",
   "execution_count": 5,
   "metadata": {},
   "outputs": [
    {
     "data": {
      "application/vnd.jupyter.widget-view+json": {
       "model_id": "fedf6cb4df174902971b8f430f35f309",
       "version_major": 2,
       "version_minor": 0
      },
      "text/plain": [
       "interactive(children=(FloatSlider(value=1.0, description='Kp', max=10.0, min=0.1), FloatSlider(value=1.0, desc…"
      ]
     },
     "metadata": {},
     "output_type": "display_data"
    },
    {
     "data": {
      "text/plain": [
       "<function __main__.leadLagPlot(Kp, Tlead, Tlag, theta, Ts)>"
      ]
     },
     "execution_count": 5,
     "metadata": {},
     "output_type": "execute_result"
    }
   ],
   "source": [
    "def leadLagPlot(Kp, Tlead, Tlag, theta, Ts):\n",
    "  TSim = 100\n",
    "  N = int(TSim/Ts) + 1\n",
    "\n",
    "  t = []\n",
    "  MV = []\n",
    "  MVDelay = []\n",
    "  PV_EBD = []\n",
    "  PV_EFD = []\n",
    "\n",
    "  MVPath = {0: 0, 5: 1, 50: 2, 80: 3, TSim: 3}\n",
    "\n",
    "  for i in range(0,N):\n",
    "    t.append(i*Ts)\n",
    "    SelectPath_RT(MVPath,t,MV)\n",
    "    Delay_RT(MV,theta,Ts,MVDelay)\n",
    "    LeadLag_RT(MVDelay,Kp,Tlag,Tlead,Ts,PV_EBD)\n",
    "    #PV_EBD.append(LeadLag_RT(MVDelay,Kp,Tlag,Tlead,Ts,PV_EBD))\n",
    "\n",
    "  plt.figure(figsize = (15,9))\n",
    "\n",
    "  plt.subplot(2,1,1)\n",
    "  plt.step(t,MV,'b-',label='MV',where='post')\n",
    "  plt.step(t,MVDelay,'b-',linewidth=0.5,label='MV plus delay',where='post')\n",
    "  plt.ylabel('Value of MV')\n",
    "  plt.title('First order plus delay response')\n",
    "  plt.legend(loc='best')\n",
    "  plt.xlim([0, TSim])\n",
    "\n",
    "  plt.subplot(2,1,2)\n",
    "  plt.step(t,PV_EBD,'g-',label='First order response plus delay (EBD)',where='post')\n",
    "  plt.ylabel('Value of PV')\n",
    "  plt.xlabel('Time [s]')\n",
    "  plt.legend(loc='best')\n",
    "  plt.xlim([0, TSim]) \n",
    "\n",
    "interact(leadLagPlot, Kp = widgets.FloatSlider(value=1,\n",
    "                                                min=0.1,\n",
    "                                                max=10.0,\n",
    "                                                step=0.1),\n",
    "                    Tlead = widgets.FloatSlider(value=1,\n",
    "                                                min=0.1,\n",
    "                                                max=10.0,\n",
    "                                                step=0.1),\n",
    "                    Tlag = widgets.FloatSlider(value=1,\n",
    "                                                min=0.1,\n",
    "                                                max=10.0,\n",
    "                                                step=0.1),\n",
    "                    theta = widgets.FloatSlider(value=10,\n",
    "                                                min=1,\n",
    "                                                max=20.0,\n",
    "                                                step=1),\n",
    "                    Ts = widgets.FloatSlider(value=1,\n",
    "                                                min=0.001,\n",
    "                                                max=1.0,\n",
    "                                                step=0.001))"
   ]
  },
  {
   "cell_type": "markdown",
   "metadata": {},
   "source": [
    "## PID"
   ]
  },
  {
   "cell_type": "code",
   "execution_count": 6,
   "metadata": {},
   "outputs": [
    {
     "name": "stdout",
     "output_type": "stream",
     "text": [
      "Help on function PID_RT in module package_LAB:\n",
      "\n",
      "PID_RT(PV, SP, MV, Ts, Kc, Ti, Td, alpha, approximationType, PVinit=0, man=False, manMV=[0], FF_MV=[0], FF_MV_init=0, MVmin=0, MVmax=100)\n",
      "    parameters : \n",
      "    • PV : array of all recorded PV values\n",
      "    • SP : current SP value\n",
      "    • MV : dict of all recorded MV ({\"MV\" : [0], \"MVp\" : [0], \"MVi\": [0], \"MVd\": [0], \"E\" : [0]})\n",
      "    • Ts : Sample time (seconds)\n",
      "    • Kc : PID gain\n",
      "    • Ti : PID Integration time constant\n",
      "    • Td : PID Derivation time constant\n",
      "    • alpha : proportional parameter between Td and Tfd\n",
      "    • approximationType : list of approximation types for integration and derivation (looks like : [\"EBD\", \"TRAP\"]), you can choose EBD or TRAP\n",
      "    • PVinit : initial PV value (useful for simulations, default = 0)\n",
      "    • man : boolean, true if manual mode is enabled (default = false)\n",
      "    • manMV : array of manual MV values (default = [0])\n",
      "    • FF_MV : array of all Feed-Forward MV values (default = [0])\n",
      "    • FF_MV_init : initial value for FF_MV (default = 0)\n",
      "    • MVmin : minimum value of MV (default = 0)\n",
      "    • MVmax : maximum value of MV (default = 100)\n",
      "\n"
     ]
    }
   ],
   "source": [
    "help(PID_RT)"
   ]
  },
  {
   "cell_type": "markdown",
   "metadata": {},
   "source": [
    "## Set parameters for PID"
   ]
  },
  {
   "cell_type": "code",
   "execution_count": 7,
   "metadata": {},
   "outputs": [],
   "source": [
    "Kc = 1.1\n",
    "Ti = 10\n",
    "Td = 5\n",
    "alpha = 0.5\n",
    "discretisation = [\"TRAP\", \"TRAP\"]\n",
    "\n",
    "PV = []\n",
    "MV = {\"MV\" : [],\n",
    "      \"MVp\" : [],\n",
    "      \"MVi\": [], \n",
    "      \"MVd\": [], \n",
    "      \"E\" : []}\n",
    "\n",
    "Ts = 0.01\n",
    "TSim = 50\n",
    "\n",
    "N = int(TSim/Ts)+1\n",
    "\n",
    "t = []\n",
    "SP = []\n",
    "SPPath = {0: 0, 5: 20}\n",
    "\n",
    "for i in range(0,N):\n",
    "  PV.append(0)\n",
    "  t.append(i*Ts)\n",
    "  SelectPath_RT(SPPath,t,SP)"
   ]
  },
  {
   "cell_type": "markdown",
   "metadata": {},
   "source": [
    "## Plot step response of PID"
   ]
  },
  {
   "cell_type": "code",
   "execution_count": 8,
   "metadata": {},
   "outputs": [
    {
     "data": {
      "image/png": "[encoded data removed]",
      "text/plain": [
       "<Figure size 1080x720 with 1 Axes>"
      ]
     },
     "metadata": {
      "needs_background": "light"
     },
     "output_type": "display_data"
    }
   ],
   "source": [
    "\n",
    "\n",
    "for i in range(0, N):\n",
    "  PID_RT(PV, SP[i], MV, Ts, Kc, Ti, Td, alpha, discretisation)\n",
    "\n",
    "f = plt.figure()\n",
    "f.set_figwidth(15)\n",
    "f.set_figheight(10)\n",
    "\n",
    "plt.step(t, np.array(SP), label='Setpoints')\n",
    "plt.step(t, np.array(MV[\"MV\"]), label='PID MV')\n",
    "plt.step(t, np.array(MV[\"MVp\"]), label='PID MVp')\n",
    "plt.step(t, np.array(MV[\"MVi\"]), label='PID MVi')\n",
    "plt.step(t, np.array(MV[\"MVd\"]), label='PID MVd')\n",
    "\n",
    "plt.legend(loc='upper right')\n",
    "\n",
    "\n",
    "\n",
    "plt.show()"
   ]
  },
  {
   "cell_type": "markdown",
   "metadata": {},
   "source": [
    "## PID with Widgets"
   ]
  },
  {
   "cell_type": "code",
   "execution_count": 9,
   "metadata": {},
   "outputs": [
    {
     "data": {
      "application/vnd.jupyter.widget-view+json": {
       "model_id": "cc7962d3da434115af314dc63f1a03cb",
       "version_major": 2,
       "version_minor": 0
      },
      "text/plain": [
       "interactive(children=(FloatSlider(value=1.1, description='Kc', max=10.0, min=0.1), FloatSlider(value=10.0, des…"
      ]
     },
     "metadata": {},
     "output_type": "display_data"
    },
    {
     "data": {
      "text/plain": [
       "<function __main__.PIDPlot(Kc, Ti, Td, alpha, Ts)>"
      ]
     },
     "execution_count": 9,
     "metadata": {},
     "output_type": "execute_result"
    }
   ],
   "source": [
    "def PIDPlot(Kc, Ti, Td, alpha, Ts):\n",
    "\n",
    "  discretisation = [\"TRAP\", \"TRAP\"]\n",
    "\n",
    "  PV = []\n",
    "  MV = {\"MV\" : [],\n",
    "        \"MVp\" : [],\n",
    "        \"MVi\": [], \n",
    "        \"MVd\": [], \n",
    "        \"E\" : []}\n",
    "  TSim = 50\n",
    "\n",
    "  N = int(TSim/Ts)+1\n",
    "\n",
    "  t = []\n",
    "  SP = []\n",
    "  SPPath = {0: 0, 5: 20}\n",
    "\n",
    "  for i in range(0,N):\n",
    "    PV.append(0)\n",
    "    t.append(i*Ts)\n",
    "    SelectPath_RT(SPPath,t,SP)\n",
    "\n",
    "  for i in range(0, N):\n",
    "    PID_RT(PV, SP[i], MV, Ts, Kc, Ti, Td, alpha, discretisation)\n",
    "\n",
    "  f = plt.figure()\n",
    "  f.set_figwidth(15)\n",
    "  f.set_figheight(10)\n",
    "\n",
    "  plt.step(t, np.array(SP), label='Setpoints')\n",
    "  plt.step(t, np.array(MV[\"MV\"]), label='PID MV')\n",
    "  plt.step(t, np.array(MV[\"MVp\"]), label='PID MVp')\n",
    "  plt.step(t, np.array(MV[\"MVi\"]), label='PID MVi')\n",
    "  plt.step(t, np.array(MV[\"MVd\"]), label='PID MVd')\n",
    "\n",
    "  plt.legend(loc='upper right')\n",
    "\n",
    "\n",
    "\n",
    "  plt.show()\n",
    "\n",
    "interact(PIDPlot, Kc = widgets.FloatSlider(value=1.1,\n",
    "                                                min=0.1,\n",
    "                                                max=10.0,\n",
    "                                                step=0.1),\n",
    "                      Ti = widgets.FloatSlider(value=10,\n",
    "                                                min=0.1,\n",
    "                                                max=20.0,\n",
    "                                                step=0.1),\n",
    "                      Td = widgets.FloatSlider(value=5,\n",
    "                                                min=0.1,\n",
    "                                                max=20.0,\n",
    "                                                step=0.1),\n",
    "                    alpha = widgets.FloatSlider(value=0.5,\n",
    "                                                min=0.01,\n",
    "                                                max=5,\n",
    "                                                step=0.01),\n",
    "                    Ts = widgets.FloatSlider(value=1,\n",
    "                                                min=0.001,\n",
    "                                                max=1.0,\n",
    "                                                step=0.001))"
   ]
  }
 ],
 "metadata": {
  "interpreter": {
   "hash": "aee8b7b246df8f9039afb4144a1f6fd8d2ca17a180786b69acc140d282b71a49"
  },
  "kernelspec": {
   "display_name": "Python 3 (ipykernel)",
   "language": "python",
   "name": "python3"
  },
  "language_info": {
   "codemirror_mode": {
    "name": "ipython",
    "version": 3
   },
   "file_extension": ".py",
   "mimetype": "text/x-python",
   "name": "python",
   "nbconvert_exporter": "python",
   "pygments_lexer": "ipython3",
   "version": "3.9.1"
  }
 },
 "nbformat": 4,
 "nbformat_minor": 2
}
