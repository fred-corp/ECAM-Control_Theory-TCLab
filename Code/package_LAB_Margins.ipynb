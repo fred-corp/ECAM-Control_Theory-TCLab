{
 "cells": [
  {
   "cell_type": "markdown",
   "metadata": {},
   "source": [
    "# Diagrams"
   ]
  },
  {
   "cell_type": "markdown",
   "metadata": {},
   "source": [
    "### Import libraries"
   ]
  },
  {
   "cell_type": "code",
   "execution_count": null,
   "metadata": {},
   "outputs": [],
   "source": [
    "import pandas as pd\n",
    "import matplotlib.pyplot as plt\n",
    "import numpy as np\n",
    "from scipy.optimize import minimize\n",
    "\n",
    "import package_DBR\n",
    "from package_DBR import *\n",
    "from package_LAB_Margins import *"
   ]
  },
  {
   "cell_type": "markdown",
   "metadata": {},
   "source": [
    "### Set parameters"
   ]
  },
  {
   "cell_type": "code",
   "execution_count": null,
   "metadata": {},
   "outputs": [],
   "source": [
    "# SOPDT-optimised data\n",
    "Kp = 0.568729702885908\n",
    "T1p = 172.40926097266686\n",
    "T2p = 2.8511434253226774*(10**-5)\n",
    "THETAp = 1.9999999968968731\n",
    "\n",
    "# Controller data\n",
    "Kc = 4.262346960976285\n",
    "Ti = 172.4\n",
    "Td = 0\n",
    "alpha = 0.5\n"
   ]
  },
  {
   "cell_type": "markdown",
   "metadata": {},
   "source": [
    "### Plot bode diagrams"
   ]
  },
  {
   "cell_type": "code",
   "execution_count": null,
   "metadata": {},
   "outputs": [],
   "source": [
    "omega = np.logspace(-4, 1, 10000)\n",
    "\n",
    "\n",
    "#SOPDT Model bode params\n",
    "P = Process({}) # Default process = unit gain\n",
    "\n",
    "P.parameters['Kp'] = Kp\n",
    "P.parameters['Tlag1'] = T1p\n",
    "P.parameters['Tlag2'] = T2p\n",
    "P.parameters['theta'] = THETAp\n",
    "\n",
    "C = Controller({}) # Default process = unit gain\n",
    "\n",
    "C.parameters['Kc'] = Kc\n",
    "C.parameters['Ti'] = Ti\n",
    "C.parameters['Td'] = Td\n",
    "C.parameters['alpha'] = alpha\n",
    "\n",
    "\n",
    "Margins(P, C, omega)\n"
   ]
  }
 ],
 "metadata": {
  "interpreter": {
   "hash": "aee8b7b246df8f9039afb4144a1f6fd8d2ca17a180786b69acc140d282b71a49"
  },
  "kernelspec": {
   "display_name": "Python 3 (ipykernel)",
   "language": "python",
   "name": "python3"
  },
  "language_info": {
   "codemirror_mode": {
    "name": "ipython",
    "version": 3
   },
   "file_extension": ".py",
   "mimetype": "text/x-python",
   "name": "python",
   "nbconvert_exporter": "python",
   "pygments_lexer": "ipython3",
   "version": "3.9.7"
  }
 },
 "nbformat": 4,
 "nbformat_minor": 2
}
