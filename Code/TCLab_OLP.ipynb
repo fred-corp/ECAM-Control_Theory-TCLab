{
 "cells": [
  {
   "cell_type": "markdown",
   "id": "4b75e1af-47f6-458b-a92a-f5e263df5950",
   "metadata": {},
   "source": [
    "# TCLab_OLP"
   ]
  },
  {
   "cell_type": "code",
   "execution_count": 1,
   "id": "c9193608-41eb-41c1-afc0-96ef425f2ed0",
   "metadata": {},
   "outputs": [],
   "source": [
    "import numpy as np\n",
    "import matplotlib.pyplot as plt\n",
    "from IPython.display import display, clear_output\n",
    "\n",
    "from datetime import datetime\n",
    "import tclab\n",
    "import time\n",
    "\n",
    "import os\n",
    "\n",
    "import package_DBR\n",
    "from package_DBR import myRound"
   ]
  },
  {
   "cell_type": "markdown",
   "id": "524e979d-8d92-467e-b0a7-d1f92c5d7d24",
   "metadata": {},
   "source": [
    "# Function used for interaction with TCLab"
   ]
  },
  {
   "cell_type": "code",
   "execution_count": 2,
   "id": "3a7aacdc-f2d8-4b85-9635-1b11e46ac81a",
   "metadata": {},
   "outputs": [],
   "source": [
    "def experiment(MV0,DV0,Delta,Ts,SlopePVLim,SlopePVTime,StepTime,ExpVariable,ExpType):\n",
    "    \n",
    "    global i, t, MV, PV, DV, Exp, SlopePV, TimerSlopePV, TwoSteps, SecondExperiment\n",
    "    Tf = 1 # Parameter for slope computation of PV\n",
    "    \n",
    "    t.append(i*Ts)\n",
    "    \n",
    "    def set_TCLab(MVValue,DVValue):\n",
    "        lab.Q1(MVValue)\n",
    "        lab.Q2(DVValue)\n",
    "        MV.append(MVValue)\n",
    "        DV.append(DVValue)        \n",
    "    \n",
    "    if ExpType == 'Preheating':\n",
    "        SecondExperiment = False\n",
    "        if ExpVariable == \"MV\":\n",
    "            set_TCLab(MV0-Delta,DV0)\n",
    "        elif ExpVariable == \"DV\":\n",
    "            set_TCLab(MV0,DV0-Delta)\n",
    "        else:\n",
    "            print(\"Not a known experiment !\")\n",
    "            set_TCLab(MV0,DV0)\n",
    "    elif ExpType == 'StepExperiment':\n",
    "        if ExpVariable == \"MV\":\n",
    "            if (t[-1] < StepTime) or SecondExperiment:\n",
    "                set_TCLab(MV0-Delta,DV0)\n",
    "            else:\n",
    "                set_TCLab(MV0+Delta,DV0)                \n",
    "        elif ExpVariable == \"DV\":\n",
    "            if (t[-1] < StepTime) or SecondExperiment:            \n",
    "                set_TCLab(MV0,DV0-Delta)\n",
    "            else:\n",
    "                set_TCLab(MV0,DV0+Delta)                \n",
    "        else:\n",
    "            print(\"Not a known experiment variable !\")\n",
    "            set_TCLab(MV0,DV0)           \n",
    "    else:\n",
    "        print(\"Not a known experiment type !\")\n",
    "        set_TCLab(MV0,DV0)        \n",
    "        \n",
    "    PV.append(lab.T1);\n",
    "    \n",
    "    if i > 1:\n",
    "        SlopePV = (Tf/(Tf + Ts))*SlopePV + (1/(Tf + Ts))*(PV[-1] - PV[-2])\n",
    "    else:\n",
    "        TimerSlopePV = SlopePVTime + 1\n",
    "    \n",
    "    l1.set_data(t,MV)\n",
    "    l2.set_data(t,PV)\n",
    "    l3.set_data(t,DV)\n",
    "    \n",
    "    clear_output(wait=True)\n",
    "    \n",
    "    # Remove if increasing x-axis length is not desired\n",
    "    ax1.set_xlim(0, t[-1]+1)\n",
    "    ax2.set_xlim(0, t[-1]+1)\n",
    "    ax3.set_xlim(0, t[-1]+1)\n",
    "    \n",
    "    if i > 1:\n",
    "        ax1.set_ylim(myRound(np.min(MV),5)-5, myRound(np.max(MV),5)+5)\n",
    "        ax2.set_ylim(myRound(np.min(PV),5)-5, myRound(np.max(PV),5)+5)\n",
    "        ax3.set_ylim(myRound(np.min(DV),5)-5, myRound(np.max(DV),5)+5)        \n",
    "    \n",
    "    display(fig)        \n",
    "    \n",
    "    print('PV [°C]: ' + str(PV[-1]) + ', SlopePV [°C/s]: ' + str(SlopePV))\n",
    "    \n",
    "    i = i + 1\n",
    "    time.sleep(Ts)\n",
    "    \n",
    "    if (abs(SlopePV) < SlopePVLim):\n",
    "        TimerSlopePV = TimerSlopePV - 1;\n",
    "    else:\n",
    "        TimerSlopePV = SlopePVTime + 1\n",
    "        \n",
    "    if TimerSlopePV == 0:\n",
    "        if (ExpType == 'StepExperiment') and TwoSteps:\n",
    "            TwoSteps = False\n",
    "            SecondExperiment = True\n",
    "            TimerSlopePV = SlopePVTime + 1\n",
    "        else:\n",
    "            Exp = False\n",
    "            if ExpType == 'StepExperiment':\n",
    "                now = datetime.now()\n",
    "                date_time = now.strftime(\"%Y-%m-%d-%Hh%M\")\n",
    "                t = np.array(t)\n",
    "                MV = np.array(MV)\n",
    "                PV = np.array(PV)\n",
    "                DV = np.array(DV)\n",
    "                my_data = np.vstack((t.T,MV.T,PV.T,DV.T))\n",
    "                my_data = my_data.T\n",
    "                nameFile = 'Data/Open_loop_experiment_on_' + ExpVariable + '_' + date_time + '.txt'\n",
    "                if not os.path.exists('Data'):\n",
    "                    os.makedirs('Data')\n",
    "                np.savetxt(nameFile,my_data,delimiter=',',header='t,MV,PV,DV',comments='')\n",
    "                    \n",
    "    return SlopePV, TimerSlopePV"
   ]
  },
  {
   "cell_type": "markdown",
   "id": "4e885ef0-d834-4038-b780-0766b5d6c0ed",
   "metadata": {},
   "source": [
    "# Experimentation parameters"
   ]
  },
  {
   "cell_type": "code",
   "execution_count": 3,
   "id": "acf02858-cb00-4c20-ab62-d6e9a0d176fe",
   "metadata": {},
   "outputs": [],
   "source": [
    "Ts = 1\n",
    "\n",
    "ExpVariable = \"MV\"\n",
    "\n",
    "MV0 = 50\n",
    "DV0 = 50\n",
    "\n",
    "# MV0 - Delta to MV0 + Delta if Experiment = \"MV\"\n",
    "# DV0 - Delta to DV0 + Delta if Experiment = \"DV\"\n",
    "Delta = 20 \n",
    "\n",
    "# Change on PV < SlopePVLim for SlopePVTime before taking step\n",
    "SlopePVLim = 0.07 \n",
    "SlopePVTime = 20\n",
    "\n",
    "# Step time during experiment\n",
    "StepTime = 10\n",
    "\n",
    "# Twosteps ?\n",
    "TwoSteps = True"
   ]
  },
  {
   "cell_type": "markdown",
   "id": "2129ff51-629a-404e-bd85-b3a846c9182a",
   "metadata": {},
   "source": [
    "# Real-time visualition of the experimental signals"
   ]
  },
  {
   "cell_type": "code",
   "execution_count": 4,
   "id": "298d9cd3-66bd-4822-a8c9-cf4758b41162",
   "metadata": {},
   "outputs": [
    {
     "name": "stdout",
     "output_type": "stream",
     "text": [
      "TCLab version 0.4.9\n",
      "--- Serial Ports ---\n",
      "/dev/cu.URT2 n/a n/a\n",
      "/dev/cu.URT1 n/a n/a\n",
      "/dev/cu.BLTH n/a n/a\n",
      "/dev/cu.Bluetooth-Incoming-Port n/a n/a\n"
     ]
    },
    {
     "ename": "RuntimeError",
     "evalue": "No Arduino device found.",
     "output_type": "error",
     "traceback": [
      "\u001b[0;31m---------------------------------------------------------------------------\u001b[0m",
      "\u001b[0;31mRuntimeError\u001b[0m                              Traceback (most recent call last)",
      "\u001b[1;32m/Users/fredericdruppel/Library/Mobile Documents/com~apple~CloudDocs/ECAM/2021-2022/3BE/AU4C Control Theory/Labo/3BE - 4MIN/Control_theory_software/TCLab_OLP.ipynb Cell 8'\u001b[0m in \u001b[0;36m<cell line: 19>\u001b[0;34m()\u001b[0m\n\u001b[1;32m     <a href='vscode-notebook-cell:/Users/fredericdruppel/Library/Mobile%20Documents/com~apple~CloudDocs/ECAM/2021-2022/3BE/AU4C%20Control%20Theory/Labo/3BE%20-%204MIN/Control_theory_software/TCLab_OLP.ipynb#ch0000007?line=15'>16</a>\u001b[0m ax3\u001b[39m.\u001b[39mset_ylabel(\u001b[39m'\u001b[39m\u001b[39mValue of DV [\u001b[39m\u001b[39m%\u001b[39m\u001b[39m]\u001b[39m\u001b[39m'\u001b[39m)\n\u001b[1;32m     <a href='vscode-notebook-cell:/Users/fredericdruppel/Library/Mobile%20Documents/com~apple~CloudDocs/ECAM/2021-2022/3BE/AU4C%20Control%20Theory/Labo/3BE%20-%204MIN/Control_theory_software/TCLab_OLP.ipynb#ch0000007?line=16'>17</a>\u001b[0m ax3\u001b[39m.\u001b[39mlegend(loc\u001b[39m=\u001b[39m\u001b[39m'\u001b[39m\u001b[39mbest\u001b[39m\u001b[39m'\u001b[39m) \n\u001b[0;32m---> <a href='vscode-notebook-cell:/Users/fredericdruppel/Library/Mobile%20Documents/com~apple~CloudDocs/ECAM/2021-2022/3BE/AU4C%20Control%20Theory/Labo/3BE%20-%204MIN/Control_theory_software/TCLab_OLP.ipynb#ch0000007?line=18'>19</a>\u001b[0m lab \u001b[39m=\u001b[39m tclab\u001b[39m.\u001b[39;49mTCLab()\n\u001b[1;32m     <a href='vscode-notebook-cell:/Users/fredericdruppel/Library/Mobile%20Documents/com~apple~CloudDocs/ECAM/2021-2022/3BE/AU4C%20Control%20Theory/Labo/3BE%20-%204MIN/Control_theory_software/TCLab_OLP.ipynb#ch0000007?line=20'>21</a>\u001b[0m t \u001b[39m=\u001b[39m []\n\u001b[1;32m     <a href='vscode-notebook-cell:/Users/fredericdruppel/Library/Mobile%20Documents/com~apple~CloudDocs/ECAM/2021-2022/3BE/AU4C%20Control%20Theory/Labo/3BE%20-%204MIN/Control_theory_software/TCLab_OLP.ipynb#ch0000007?line=21'>22</a>\u001b[0m i \u001b[39m=\u001b[39m \u001b[39m0\u001b[39m\n",
      "File \u001b[0;32m/Library/Frameworks/Python.framework/Versions/3.9/lib/python3.9/site-packages/tclab/tclab.py:61\u001b[0m, in \u001b[0;36mTCLab.__init__\u001b[0;34m(self, port, debug)\u001b[0m\n\u001b[1;32m     <a href='file:///Library/Frameworks/Python.framework/Versions/3.9/lib/python3.9/site-packages/tclab/tclab.py?line=58'>59</a>\u001b[0m \u001b[39mself\u001b[39m\u001b[39m.\u001b[39mport, \u001b[39mself\u001b[39m\u001b[39m.\u001b[39marduino \u001b[39m=\u001b[39m find_arduino(port)\n\u001b[1;32m     <a href='file:///Library/Frameworks/Python.framework/Versions/3.9/lib/python3.9/site-packages/tclab/tclab.py?line=59'>60</a>\u001b[0m \u001b[39mif\u001b[39;00m \u001b[39mself\u001b[39m\u001b[39m.\u001b[39mport \u001b[39mis\u001b[39;00m \u001b[39mNone\u001b[39;00m:\n\u001b[0;32m---> <a href='file:///Library/Frameworks/Python.framework/Versions/3.9/lib/python3.9/site-packages/tclab/tclab.py?line=60'>61</a>\u001b[0m     \u001b[39mraise\u001b[39;00m \u001b[39mRuntimeError\u001b[39;00m(\u001b[39m'\u001b[39m\u001b[39mNo Arduino device found.\u001b[39m\u001b[39m'\u001b[39m)\n\u001b[1;32m     <a href='file:///Library/Frameworks/Python.framework/Versions/3.9/lib/python3.9/site-packages/tclab/tclab.py?line=62'>63</a>\u001b[0m \u001b[39mtry\u001b[39;00m:\n\u001b[1;32m     <a href='file:///Library/Frameworks/Python.framework/Versions/3.9/lib/python3.9/site-packages/tclab/tclab.py?line=63'>64</a>\u001b[0m     \u001b[39mself\u001b[39m\u001b[39m.\u001b[39mconnect(baud\u001b[39m=\u001b[39m\u001b[39m115200\u001b[39m)\n",
      "\u001b[0;31mRuntimeError\u001b[0m: No Arduino device found."
     ]
    },
    {
     "data": {
      "image/png": "[encoded data removed]",
      "text/plain": [
       "<Figure size 1584x864 with 3 Axes>"
      ]
     },
     "metadata": {
      "needs_background": "light"
     },
     "output_type": "display_data"
    }
   ],
   "source": [
    "fig, (ax1, ax2, ax3) = plt.subplots(3,1)\n",
    "fig.set_figheight(12)\n",
    "fig.set_figwidth(22)\n",
    "\n",
    "l1, = ax1.step([0,1],[0,100],'b-',linewidth=2,label='MV',where='post')\n",
    "ax1.set_ylabel('Value of MV [%]')\n",
    "ax1.set_title('Open-loop experiment on ' + ExpVariable)\n",
    "ax1.legend(loc='best')\n",
    "\n",
    "l2, = ax2.step([0,1],[0,100],'g-',linewidth=2,label='PV',where='post')\n",
    "ax2.set_ylabel('Value of PV [°C]')\n",
    "ax2.legend(loc='best')\n",
    "\n",
    "l3, = ax3.step([0,1],[0,100],'r-',linewidth=2,label='DV',where='post')\n",
    "ax3.set_xlabel('Time [s]')\n",
    "ax3.set_ylabel('Value of DV [%]')\n",
    "ax3.legend(loc='best') \n",
    "\n",
    "lab = tclab.TCLab()\n",
    "\n",
    "t = []\n",
    "i = 0\n",
    "MV = []\n",
    "DV = []\n",
    "PV = []\n",
    "Exp = True\n",
    "SlopePV = 0\n",
    "\n",
    "while Exp:\n",
    "    experiment(MV0,DV0,Delta,Ts,SlopePVLim,SlopePVTime,StepTime,ExpVariable,'Preheating')\n",
    "\n",
    "t = []\n",
    "i = 0\n",
    "MV = []\n",
    "DV = []\n",
    "PV = []\n",
    "Exp = True\n",
    "SlopePV = 0\n",
    "\n",
    "while Exp:\n",
    "    experiment(MV0,DV0,Delta,Ts,SlopePVLim,SlopePVTime,StepTime,ExpVariable,'StepExperiment')\n",
    "    \n",
    "lab.close() # Disconnect from TCLab\n",
    "\n",
    "now = datetime.now()\n",
    "date_time = now.strftime(\"%Y-%m-%d-%Hh%M\")\n",
    "ax1.set_title('Open-loop experiment on ' + ExpVariable + ': ' + date_time)\n",
    "nameFile = 'Plots/Open_Loop_Experiment_on_' + ExpVariable + '_' + date_time\n",
    "\n",
    "if not os.path.exists('Plots'):\n",
    "    os.makedirs('Plots')\n",
    "    \n",
    "plt.savefig(nameFile + '.png',transparent=True)\n",
    "plt.savefig(nameFile + '.pdf',transparent=True)    "
   ]
  }
 ],
 "metadata": {
  "kernelspec": {
   "display_name": "Python 3",
   "language": "python",
   "name": "python3"
  },
  "language_info": {
   "codemirror_mode": {
    "name": "ipython",
    "version": 3
   },
   "file_extension": ".py",
   "mimetype": "text/x-python",
   "name": "python",
   "nbconvert_exporter": "python",
   "pygments_lexer": "ipython3",
   "version": "3.9.1"
  }
 },
 "nbformat": 4,
 "nbformat_minor": 5
}
