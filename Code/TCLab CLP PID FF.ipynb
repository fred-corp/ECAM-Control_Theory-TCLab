{
 "cells": [
  {
   "cell_type": "markdown",
   "id": "461e79c0",
   "metadata": {},
   "source": [
    "# TCLAB CLP PID FF"
   ]
  },
  {
   "cell_type": "code",
   "execution_count": 1,
   "id": "37745cc8",
   "metadata": {},
   "outputs": [],
   "source": [
    "import pandas as pd\n",
    "import matplotlib.pyplot as plt\n",
    "from ipywidgets import interact, interactive, fixed, interact_manual\n",
    "import ipywidgets as widgets\n",
    "import numpy as np\n",
    "from scipy.optimize import minimize\n",
    "import numpy as np\n",
    "import matplotlib.pyplot as plt\n",
    "from IPython.display import display, clear_output\n",
    "\n",
    "from datetime import datetime\n",
    "import tclab\n",
    "import time\n",
    "\n",
    "import os\n",
    "\n",
    "import package_DBR\n",
    "from package_DBR import myRound\n",
    "from package_LAB import *\n",
    "from package_DBR import *\n",
    "\n",
    "import package_LAB\n",
    "from package_LAB import *"
   ]
  },
  {
   "cell_type": "markdown",
   "id": "e3dd6a26",
   "metadata": {},
   "source": [
    "## Parameters"
   ]
  },
  {
   "cell_type": "code",
   "execution_count": 2,
   "id": "4ac77be2",
   "metadata": {},
   "outputs": [],
   "source": [
    "t = []\n",
    "SP = []\n",
    "\n",
    "#MV = []\n",
    "MV = {\"MV\" : [], \"MVp\" : [], \"MVi\": [],  \"MVd\": [], \"E\" : []}\n",
    "\n",
    "DV = []\n",
    "PV = []\n",
    "\n",
    "#Man_Mode = []\n",
    "MV_Man = []\n",
    "\n",
    "#FF_Enable = []\n",
    "ActivateFF = True\n",
    "\n",
    "Exp = True\n",
    "SlopePV = 0\n",
    "\n",
    "\n",
    "TSim = 720\n",
    "Ts = 1.0\n",
    "N = int(TSim/Ts)+1\n",
    "\n",
    "\n",
    "MV0 = 50\n",
    "DV0 = 50\n",
    "PV0 = 75\n",
    "\n",
    "\n",
    "# Parameters for input-output dynamics\n",
    "Kp = 0.57\n",
    "T1p = 172.4\n",
    "T2p = 2.8\n",
    "Thetap = 2.0\n",
    "\n",
    "# G & H, voir A\n",
    "\n",
    "# Parameters for disturbance dynamics\n",
    "Kd = 0.29\n",
    "T1d = 127.9\n",
    "T2d = 21.8\n",
    "Thetad = 12.4\n",
    "\n",
    "Man = []\n",
    "MVMan = []\n",
    "MVFF = []\n",
    "MVFFDelay = []\n",
    "MVFFLL1 = []\n",
    "\n",
    "# Paths\n",
    "SPPath = {0: 75, 800: 65}\n",
    "DVPath = {0: DV0, 1500: DV0+5}\n",
    "manPath = {0: True, 750 : False, TSim: False}\n",
    "manMVPath = {0: MV0, TSim: MV0}\n",
    "\n",
    "\n",
    "\n",
    "alpha = 0.5\n",
    "gamma = 0.4\n",
    "Tc = gamma * T1p\n",
    "Kc, Ti, Td = IMC_Tuning(Kp, Thetap, Tc, T1p, T2p)\n",
    "discretisation = [\"TRAP\", \"TRAP\"]\n"
   ]
  },
  {
   "cell_type": "markdown",
   "id": "019675e2",
   "metadata": {},
   "source": [
    "## Function used for interaction with TCLAB"
   ]
  },
  {
   "cell_type": "code",
   "execution_count": 3,
   "id": "3a0f5804",
   "metadata": {},
   "outputs": [],
   "source": [
    "def experiment(MV0,DV0,Ts):\t\n",
    "    global reg, t, MV, SP, PV, DV, Man_Mode\n",
    "\n",
    "    def set_tclab_value(MV_value, DV_value):\n",
    "        lab.Q1(MV_value)\n",
    "        lab.Q2(DV_value)\n",
    "\n",
    "    for i in range(0, N):\n",
    "        t.append(i*Ts)\n",
    "\n",
    "        \n",
    "        \"\"\"\n",
    "        ## Create the path\n",
    "        SelectPath_RT(SP_Path, t, SP)\n",
    "        SelectPath_RT(DV_Path, t, DV)\n",
    "        SelectPath_RT(Man_Mode_Path, t, Man_Mode)\n",
    "        SelectPath_RT(MV_Man_Path, t, MV_Man)\n",
    "        SelectPath_RT(FF_Enable_Path, t, FF_Enable)\n",
    "        \"\"\"\n",
    "\n",
    "        # Input signal SP and DV\n",
    "        SelectPath_RT(SPPath,t,SP)\n",
    "        SelectPath_RT(DVPath,t,DV)\n",
    "\n",
    "        # FeedForward\n",
    "        Delay_RT(DV-DV0*np.ones_like(DV), np.max([Thetad-Thetap,0]),Ts,MVFFDelay)\n",
    "        LeadLag_RT(MVFFDelay,-Kd/Kp, T1d, T1p, Ts, MVFFLL1)\n",
    "        if ActivateFF:\n",
    "            LeadLag_RT(MVFFLL1, 1, T2d, T2p, Ts, MVFF)\n",
    "        else:\n",
    "            #LeadLag_RT(MVFFLL1, 0, T2d, T2p, Ts, MVFF)\n",
    "            MVFF.append(0)\n",
    "        \n",
    "        # PID controller mode\n",
    "        SelectPath_RT(manPath,t,Man)\n",
    "        SelectPath_RT(manMVPath, t, MVMan)\n",
    "        \n",
    "        # PID controller\n",
    "        PID_RT(PV, SP[i], MV, Ts, Kc, Ti, Td, alpha, discretisation, PVinit=PV0, man=Man[i], manMV=MVMan, FF_MV=MVFF)\n",
    "        # Process Dynamics\n",
    "        lab.Q1(MV[\"MV\"][-1])\n",
    "\n",
    "\n",
    "        # Disturbance dynamics$\n",
    "        DV - DV0*np.ones_like(DV)\n",
    "        lab.Q2(DV[-1])\n",
    "            \n",
    "\n",
    "        PV.append(lab.T1)\n",
    "        l1.set_data(t, MV[\"MV\"])\n",
    "        l2.set_data(t, PV)\n",
    "        l3.set_data(t, DV)\n",
    "\n",
    "        clear_output(wait=True)\n",
    "        \n",
    "        ax1.set_xlim(0, t[-1]+1)\n",
    "        ax2.set_xlim(0, t[-1]+1)\n",
    "        ax3.set_xlim(0, t[-1]+1)\n",
    "\n",
    "        if i > 1:\n",
    "            ax1.set_ylim(myRound(np.min(MV[\"MV\"]), 5)-5, myRound(np.max(MV[\"MV\"]), 5)+5)\n",
    "            ax2.set_ylim(myRound(np.min(PV), 5)-5, myRound(np.max(PV), 5)+5)\n",
    "            ax3.set_ylim(myRound(np.min(DV), 5)-5, myRound(np.max(DV), 5)+5)\n",
    "\n",
    "        set_tclab_value(MV[\"MV\"][-1], DV[-1])\n",
    "\n",
    "        print(f'SP: {SP[-1]}°C, PV: {PV[-1]}°C, MV: {MV[\"MV\"][-1]}%, DV: {DV[-1]}%, PV of DV : {lab.T2}')\n",
    "\n",
    "        display(fig)\n",
    "        time.sleep(1)\n"
   ]
  },
  {
   "cell_type": "markdown",
   "id": "d39e580b",
   "metadata": {},
   "source": [
    "## Axis Creation"
   ]
  },
  {
   "cell_type": "code",
   "execution_count": null,
   "id": "1ae29998",
   "metadata": {},
   "outputs": [
    {
     "name": "stdout",
     "output_type": "stream",
     "text": [
      "SP: 75°C, PV: 43.46°C, MV: 50.0%, DV: 50%, PV of DV : 43.13\n"
     ]
    },
    {
     "data": {
      "image/png": "[encoded data removed]",
      "text/plain": [
       "<Figure size 1584x864 with 3 Axes>"
      ]
     },
     "metadata": {},
     "output_type": "display_data"
    }
   ],
   "source": [
    "fig, (ax1, ax2, ax3) = plt.subplots(3, 1)\n",
    "fig.set_figheight(12)\n",
    "fig.set_figwidth(22)\n",
    "\n",
    "l1, = ax1.step([0, 1], [0, 100], 'b-', linewidth=2, label='MV', where='post')\n",
    "ax1.set_ylabel('Value of MV [%]')\n",
    "ax1.set_title('Open-loop experiment on ')\n",
    "ax1.legend(loc='best')\n",
    "\n",
    "l2, = ax2.step([0, 1], [0, 100], 'g-', linewidth=2, label='PV', where='post')\n",
    "ax2.set_ylabel('Value of PV [°C]')\n",
    "ax2.legend(loc='best')\n",
    "\n",
    "l3, = ax3.step([0, 1], [0, 100], 'r-', linewidth=2, label='DV', where='post')\n",
    "ax3.set_xlabel('Time [s]')\n",
    "ax3.set_ylabel('Value of DV [%]')\n",
    "ax3.legend(loc='best')\n",
    "\n",
    "lab = tclab.TCLab()\n",
    "experiment(MV0, DV0, Ts)"
   ]
  },
  {
   "cell_type": "markdown",
   "id": "cc7864ac",
   "metadata": {},
   "source": [
    "## PID + FF Live"
   ]
  },
  {
   "cell_type": "code",
   "execution_count": null,
   "id": "23880214",
   "metadata": {},
   "outputs": [],
   "source": []
  }
 ],
 "metadata": {
  "kernelspec": {
   "display_name": "Python 3 (ipykernel)",
   "language": "python",
   "name": "python3"
  },
  "language_info": {
   "codemirror_mode": {
    "name": "ipython",
    "version": 3
   },
   "file_extension": ".py",
   "mimetype": "text/x-python",
   "name": "python",
   "nbconvert_exporter": "python",
   "pygments_lexer": "ipython3",
   "version": "3.9.7"
  }
 },
 "nbformat": 4,
 "nbformat_minor": 5
}
