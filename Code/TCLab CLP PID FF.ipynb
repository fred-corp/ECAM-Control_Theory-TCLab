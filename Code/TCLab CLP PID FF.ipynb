{
 "cells": [
  {
   "cell_type": "markdown",
   "id": "461e79c0",
   "metadata": {},
   "source": [
    "# TCLAB CLP PID FF"
   ]
  },
  {
   "cell_type": "code",
   "execution_count": 2,
   "id": "37745cc8",
   "metadata": {},
   "outputs": [],
   "source": [
    "import numpy as np\n",
    "import matplotlib.pyplot as plt\n",
    "from IPython.display import display, clear_output\n",
    "\n",
    "from datetime import datetime\n",
    "import tclab\n",
    "import time\n",
    "\n",
    "import os\n",
    "\n",
    "import package_DBR\n",
    "from package_DBR import myRound\n",
    "\n",
    "import package_LAB\n",
    "from package_LAB import *"
   ]
  },
  {
   "cell_type": "markdown",
   "id": "019675e2",
   "metadata": {},
   "source": [
    "## Function used for interaction with TCLAB"
   ]
  },
  {
   "cell_type": "code",
   "execution_count": null,
   "id": "3a0f5804",
   "metadata": {},
   "outputs": [],
   "source": []
  }
 ],
 "metadata": {
  "kernelspec": {
   "display_name": "Python 3 (ipykernel)",
   "language": "python",
   "name": "python3"
  },
  "language_info": {
   "codemirror_mode": {
    "name": "ipython",
    "version": 3
   },
   "file_extension": ".py",
   "mimetype": "text/x-python",
   "name": "python",
   "nbconvert_exporter": "python",
   "pygments_lexer": "ipython3",
   "version": "3.9.7"
  }
 },
 "nbformat": 4,
 "nbformat_minor": 5
}
