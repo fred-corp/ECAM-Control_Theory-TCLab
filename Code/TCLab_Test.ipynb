{
 "cells": [
  {
   "cell_type": "markdown",
   "id": "4b75e1af-47f6-458b-a92a-f5e263df5950",
   "metadata": {},
   "source": [
    "# TCLab_Test"
   ]
  },
  {
   "cell_type": "code",
   "execution_count": 1,
   "id": "c9193608-41eb-41c1-afc0-96ef425f2ed0",
   "metadata": {},
   "outputs": [],
   "source": [
    "import tclab\n",
    "import time"
   ]
  },
  {
   "cell_type": "markdown",
   "id": "524e979d-8d92-467e-b0a7-d1f92c5d7d24",
   "metadata": {},
   "source": [
    "# Connect to TCLab"
   ]
  },
  {
   "cell_type": "code",
   "execution_count": 2,
   "id": "d607ae06-cf4d-49f2-bd5c-4234b9258843",
   "metadata": {},
   "outputs": [
    {
     "name": "stdout",
     "output_type": "stream",
     "text": [
      "TCLab version 0.4.9\n",
      "--- Serial Ports ---\n",
      "/dev/cu.URT2 n/a n/a\n",
      "/dev/cu.URT1 n/a n/a\n",
      "/dev/cu.BLTH n/a n/a\n",
      "/dev/cu.Bluetooth-Incoming-Port n/a n/a\n"
     ]
    },
    {
     "ename": "RuntimeError",
     "evalue": "No Arduino device found.",
     "output_type": "error",
     "traceback": [
      "\u001b[0;31m---------------------------------------------------------------------------\u001b[0m",
      "\u001b[0;31mRuntimeError\u001b[0m                              Traceback (most recent call last)",
      "\u001b[1;32m/Users/fredericdruppel/Library/Mobile Documents/com~apple~CloudDocs/ECAM/2021-2022/3BE/AU4C Control Theory/Labo/3BE - 4MIN/Control_theory_software/TCLab_Test.ipynb Cell 4'\u001b[0m in \u001b[0;36m<cell line: 1>\u001b[0;34m()\u001b[0m\n\u001b[0;32m----> <a href='vscode-notebook-cell:/Users/fredericdruppel/Library/Mobile%20Documents/com~apple~CloudDocs/ECAM/2021-2022/3BE/AU4C%20Control%20Theory/Labo/3BE%20-%204MIN/Control_theory_software/TCLab_Test.ipynb#ch0000003?line=0'>1</a>\u001b[0m lab \u001b[39m=\u001b[39m tclab\u001b[39m.\u001b[39;49mTCLab()\n\u001b[1;32m      <a href='vscode-notebook-cell:/Users/fredericdruppel/Library/Mobile%20Documents/com~apple~CloudDocs/ECAM/2021-2022/3BE/AU4C%20Control%20Theory/Labo/3BE%20-%204MIN/Control_theory_software/TCLab_Test.ipynb#ch0000003?line=2'>3</a>\u001b[0m lab\u001b[39m.\u001b[39mQ1(\u001b[39m50\u001b[39m)\n\u001b[1;32m      <a href='vscode-notebook-cell:/Users/fredericdruppel/Library/Mobile%20Documents/com~apple~CloudDocs/ECAM/2021-2022/3BE/AU4C%20Control%20Theory/Labo/3BE%20-%204MIN/Control_theory_software/TCLab_Test.ipynb#ch0000003?line=3'>4</a>\u001b[0m lab\u001b[39m.\u001b[39mQ2(\u001b[39m50\u001b[39m)\n",
      "File \u001b[0;32m/Library/Frameworks/Python.framework/Versions/3.9/lib/python3.9/site-packages/tclab/tclab.py:61\u001b[0m, in \u001b[0;36mTCLab.__init__\u001b[0;34m(self, port, debug)\u001b[0m\n\u001b[1;32m     <a href='file:///Library/Frameworks/Python.framework/Versions/3.9/lib/python3.9/site-packages/tclab/tclab.py?line=58'>59</a>\u001b[0m \u001b[39mself\u001b[39m\u001b[39m.\u001b[39mport, \u001b[39mself\u001b[39m\u001b[39m.\u001b[39marduino \u001b[39m=\u001b[39m find_arduino(port)\n\u001b[1;32m     <a href='file:///Library/Frameworks/Python.framework/Versions/3.9/lib/python3.9/site-packages/tclab/tclab.py?line=59'>60</a>\u001b[0m \u001b[39mif\u001b[39;00m \u001b[39mself\u001b[39m\u001b[39m.\u001b[39mport \u001b[39mis\u001b[39;00m \u001b[39mNone\u001b[39;00m:\n\u001b[0;32m---> <a href='file:///Library/Frameworks/Python.framework/Versions/3.9/lib/python3.9/site-packages/tclab/tclab.py?line=60'>61</a>\u001b[0m     \u001b[39mraise\u001b[39;00m \u001b[39mRuntimeError\u001b[39;00m(\u001b[39m'\u001b[39m\u001b[39mNo Arduino device found.\u001b[39m\u001b[39m'\u001b[39m)\n\u001b[1;32m     <a href='file:///Library/Frameworks/Python.framework/Versions/3.9/lib/python3.9/site-packages/tclab/tclab.py?line=62'>63</a>\u001b[0m \u001b[39mtry\u001b[39;00m:\n\u001b[1;32m     <a href='file:///Library/Frameworks/Python.framework/Versions/3.9/lib/python3.9/site-packages/tclab/tclab.py?line=63'>64</a>\u001b[0m     \u001b[39mself\u001b[39m\u001b[39m.\u001b[39mconnect(baud\u001b[39m=\u001b[39m\u001b[39m115200\u001b[39m)\n",
      "\u001b[0;31mRuntimeError\u001b[0m: No Arduino device found."
     ]
    }
   ],
   "source": [
    "lab = tclab.TCLab()\n",
    "\n",
    "lab.Q1(50)\n",
    "lab.Q2(50)\n",
    "\n",
    "time.sleep(20)\n",
    "\n",
    "print(lab.T1)\n",
    "print(lab.T2)\n",
    "\n",
    "lab.close() # Disconnect from TCLab"
   ]
  }
 ],
 "metadata": {
  "kernelspec": {
   "display_name": "Python 3",
   "language": "python",
   "name": "python3"
  },
  "language_info": {
   "codemirror_mode": {
    "name": "ipython",
    "version": 3
   },
   "file_extension": ".py",
   "mimetype": "text/x-python",
   "name": "python",
   "nbconvert_exporter": "python",
   "pygments_lexer": "ipython3",
   "version": "3.9.1"
  }
 },
 "nbformat": 4,
 "nbformat_minor": 5
}
