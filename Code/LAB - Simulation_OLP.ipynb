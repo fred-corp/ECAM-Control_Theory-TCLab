{
 "cells": [
  {
   "cell_type": "markdown",
   "metadata": {},
   "source": [
    "# Diagrams"
   ]
  },
  {
   "cell_type": "markdown",
   "metadata": {},
   "source": [
    "### Import libraries"
   ]
  },
  {
   "cell_type": "code",
   "execution_count": 49,
   "metadata": {},
   "outputs": [],
   "source": [
    "import pandas as pd\n",
    "import matplotlib.pyplot as plt\n",
    "import numpy as np\n",
    "from scipy.optimize import minimize\n",
    "\n",
    "import package_DBR\n",
    "from package_DBR import myRound, FOPDT, FOPDT_cost"
   ]
  },
  {
   "cell_type": "markdown",
   "metadata": {},
   "source": [
    "### Set parameters"
   ]
  },
  {
   "cell_type": "code",
   "execution_count": 50,
   "metadata": {},
   "outputs": [],
   "source": [
    "nameFile = 'Open_Loop_Experiment_on_MV_2022-03-01-09h52.txt'\n",
    "\n",
    "# FOPDT-optimised data\n",
    "Kfopdt = 0.5606894892010703\n",
    "Tfopdt = 166.19694987259177\n",
    "THETAfopdt = 1.7144843527693636\n",
    "# Graphical data extrapolation\n",
    "Tg = 117.593\n",
    "Tu = 7.4074\n",
    "t1 = 47.06\n",
    "t2 = 72.55\n",
    "\n",
    "# SOPDT-optimised data\n",
    "Ksopdt = 0.568729702885908\n",
    "T1sopdt = 172.40926097266686\n",
    "T2sopdt = 2.8511434253226774*(10**-5)\n",
    "THETAsopdt = 1.9999999968968731"
   ]
  },
  {
   "cell_type": "markdown",
   "metadata": {},
   "source": [
    "### Extract data from experiment data file"
   ]
  },
  {
   "cell_type": "code",
   "execution_count": 51,
   "metadata": {},
   "outputs": [
    {
     "name": "stdout",
     "output_type": "stream",
     "text": [
      "MV\n"
     ]
    }
   ],
   "source": [
    "if 'MV' in nameFile:\n",
    "    ExpVariable = 'MV'\n",
    "else:    \n",
    "    ExpVariable = 'DV'\n",
    "    \n",
    "print(ExpVariable)    \n",
    "    \n",
    "titleName = nameFile.split('.')[0]    \n",
    "data = pd.read_csv('Data/' + nameFile)\n",
    "t = data['t'].values - data['t'].values[0]\n",
    "MVexp = data['MV'].values\n",
    "PVexp = data['PV'].values\n",
    "DVexp = data['DV'].values\n",
    "\n",
    "tstep = np.argwhere(np.diff(MV) != 0)\n",
    "tstep = tstep[0][0]\n",
    "tm = t[tstep:]\n",
    "tm = tm - tm[0]    \n",
    "MVstep = MVexp[tstep + 1] - MV[tstep]\n",
    "MVm = MVexp[tstep:]\n",
    "PVm = PVexp[tstep:]\n",
    "PVm = (PVm - PVm[0])/MVstep\n",
    "MVm = (MVm - MVm[0])/MVstep    "
   ]
  },
  {
   "cell_type": "markdown",
   "metadata": {},
   "source": [
    "### Calculate equation values"
   ]
  },
  {
   "cell_type": "code",
   "execution_count": 52,
   "metadata": {},
   "outputs": [],
   "source": [
    "Ts = 1.0\n",
    "PVFOPDT = FOPDT(MVm,Kfopdt,Tfopdt,THETAfopdt,Ts)"
   ]
  },
  {
   "cell_type": "markdown",
   "metadata": {},
   "source": [
    "### Plot Response to step\n",
    "Experimental & models"
   ]
  },
  {
   "cell_type": "code",
   "execution_count": 53,
   "metadata": {},
   "outputs": [
    {
     "data": {
      "image/png": "[encoded data removed]",
      "text/plain": [
       "<Figure size 432x288 with 1 Axes>"
      ]
     },
     "metadata": {
      "needs_background": "light"
     },
     "output_type": "display_data"
    }
   ],
   "source": [
    "plt.plot(t, MV, label='MV')\n",
    "plt.plot(t, PV, label='PV (Experimental)')\n",
    "plt.step(tm,PVFOPDT,'r-',linewidth=2,label='Identified first order plus delay response',where='post')\n",
    "#plt.plot(t, PVFOPDT, label='PVFOPDT')\n",
    "# plt.plot(t, DV, label='ax3')\n",
    "\n",
    "plt.legend(loc='upper right')\n",
    "\n",
    "plt.show()\n"
   ]
  },
  {
   "cell_type": "markdown",
   "metadata": {},
   "source": [
    "### Plot bode diagrams"
   ]
  },
  {
   "cell_type": "code",
   "execution_count": null,
   "metadata": {},
   "outputs": [],
   "source": []
  }
 ],
 "metadata": {
  "interpreter": {
   "hash": "aee8b7b246df8f9039afb4144a1f6fd8d2ca17a180786b69acc140d282b71a49"
  },
  "kernelspec": {
   "display_name": "Python 3.9.1 64-bit",
   "language": "python",
   "name": "python3"
  },
  "language_info": {
   "codemirror_mode": {
    "name": "ipython",
    "version": 3
   },
   "file_extension": ".py",
   "mimetype": "text/x-python",
   "name": "python",
   "nbconvert_exporter": "python",
   "pygments_lexer": "ipython3",
   "version": "3.9.1"
  },
  "orig_nbformat": 4
 },
 "nbformat": 4,
 "nbformat_minor": 2
}
