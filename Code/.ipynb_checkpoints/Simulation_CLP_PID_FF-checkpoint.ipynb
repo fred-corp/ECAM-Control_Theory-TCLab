{
 "cells": [
  {
   "cell_type": "markdown",
   "id": "1aad8d64",
   "metadata": {},
   "source": [
    "# SIMULATION_CLP_PID_FF"
   ]
  },
  {
   "cell_type": "markdown",
   "id": "96a9c364",
   "metadata": {},
   "source": [
    "## IMPORT"
   ]
  },
  {
   "cell_type": "code",
   "execution_count": null,
   "id": "a0861e7a",
   "metadata": {},
   "outputs": [],
   "source": []
  },
  {
   "cell_type": "markdown",
   "id": "c30cf5dd",
   "metadata": {},
   "source": [
    "## SIMULATION PARAMETERS"
   ]
  },
  {
   "cell_type": "code",
   "execution_count": null,
   "id": "85dcfab6",
   "metadata": {},
   "outputs": [],
   "source": []
  }
 ],
 "metadata": {
  "kernelspec": {
   "display_name": "Python 3 (ipykernel)",
   "language": "python",
   "name": "python3"
  },
  "language_info": {
   "codemirror_mode": {
    "name": "ipython",
    "version": 3
   },
   "file_extension": ".py",
   "mimetype": "text/x-python",
   "name": "python",
   "nbconvert_exporter": "python",
   "pygments_lexer": "ipython3",
   "version": "3.9.7"
  }
 },
 "nbformat": 4,
 "nbformat_minor": 5
}
