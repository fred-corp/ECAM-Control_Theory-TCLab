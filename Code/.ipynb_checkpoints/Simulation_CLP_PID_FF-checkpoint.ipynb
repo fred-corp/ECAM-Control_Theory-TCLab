{
 "cells": [
  {
   "cell_type": "markdown",
   "id": "9fbc58dc",
   "metadata": {},
   "source": [
    "# SIMULATION_CLP_PID_FF"
   ]
  },
  {
   "cell_type": "markdown",
   "id": "c3201b39",
   "metadata": {},
   "source": [
    "## IMPORT"
   ]
  },
  {
   "cell_type": "code",
   "execution_count": null,
   "id": "51e7dd8d",
   "metadata": {},
   "outputs": [],
   "source": []
  },
  {
   "cell_type": "markdown",
   "id": "fae88abe",
   "metadata": {},
   "source": [
    "## SIMULATION PARAMETERS"
   ]
  },
  {
   "cell_type": "code",
   "execution_count": null,
   "id": "ec664e33",
   "metadata": {},
   "outputs": [],
   "source": []
  }
 ],
 "metadata": {
  "kernelspec": {
   "display_name": "Python 3 (ipykernel)",
   "language": "python",
   "name": "python3"
  },
  "language_info": {
   "codemirror_mode": {
    "name": "ipython",
    "version": 3
   },
   "file_extension": ".py",
   "mimetype": "text/x-python",
   "name": "python",
   "nbconvert_exporter": "python",
   "pygments_lexer": "ipython3",
   "version": "3.9.7"
  }
 },
 "nbformat": 4,
 "nbformat_minor": 5
}
