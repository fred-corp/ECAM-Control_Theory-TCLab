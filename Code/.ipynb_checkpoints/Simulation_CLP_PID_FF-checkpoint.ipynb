{
 "cells": [
  {
   "cell_type": "markdown",
   "id": "9fbc58dc",
   "metadata": {},
   "source": [
    "# PID with FF simulation"
   ]
  },
  {
   "cell_type": "markdown",
   "id": "c3201b39",
   "metadata": {},
   "source": [
    "## Import libs"
   ]
  },
  {
   "cell_type": "code",
   "execution_count": null,
   "id": "51e7dd8d",
   "metadata": {},
   "outputs": [],
   "source": []
  },
  {
   "cell_type": "markdown",
   "id": "fae88abe",
   "metadata": {},
   "source": [
    "## Simulation params"
   ]
  },
  {
   "cell_type": "code",
   "execution_count": null,
   "id": "ec664e33",
   "metadata": {},
   "outputs": [],
   "source": [
    "TSim = 2200\n",
    "Ts = 1.0\n",
    "N = int(TSim/Ts) + 1\n",
    "\n",
    "# Working points \n",
    "MV0 = 50\n",
    "DV0 = 50\n",
    "PV0 = 75\n",
    "\n",
    "# Parameters for input-output dynamics\n",
    "Kp = 0.57\n",
    "T1p = 172.4\n",
    "T2p = 2.8\n",
    "Thetap = 2.0\n",
    "\n",
    "# Parameters for disturbance dynamics\n",
    "Kd = 0.29\n",
    "T1d = 127.9\n",
    "T2d = 21.8\n",
    "Thetad = 12.4\n",
    "\n",
    "# Parameters for the PID controller \n",
    "gamma = 0.6\n",
    "Tc = gamma * T1p\n",
    "Kc, Ti, Td = IMC_Tuning(Kp, thetap, Tc, T1p, T2p)"
   ]
  }
 ],
 "metadata": {
  "kernelspec": {
   "display_name": "Python 3 (ipykernel)",
   "language": "python",
   "name": "python3"
  },
  "language_info": {
   "codemirror_mode": {
    "name": "ipython",
    "version": 3
   },
   "file_extension": ".py",
   "mimetype": "text/x-python",
   "name": "python",
   "nbconvert_exporter": "python",
   "pygments_lexer": "ipython3",
   "version": "3.9.7"
  }
 },
 "nbformat": 4,
 "nbformat_minor": 5
}
