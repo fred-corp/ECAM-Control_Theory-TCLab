{
 "cells": [
  {
   "cell_type": "markdown",
   "id": "00b7d401-c3c0-4fe9-9f0f-a006fabdd1e0",
   "metadata": {},
   "source": [
    "# SOPDT identification"
   ]
  },
  {
   "cell_type": "code",
   "execution_count": null,
   "id": "3cff12a0-6e2b-4714-b829-39847d55c4ff",
   "metadata": {},
   "outputs": [],
   "source": [
    "import pandas as pd\n",
    "import matplotlib.pyplot as plt\n",
    "import numpy as np\n",
    "from scipy.optimize import minimize\n",
    "\n",
    "import package_DBR\n",
    "from package_DBR import myRound, SOPDT, SOPDT_cost"
   ]
  },
  {
   "cell_type": "markdown",
   "id": "a48a2e45-8598-45dd-b977-2e4ee8bd6722",
   "metadata": {},
   "source": [
    "# Load data"
   ]
  },
  {
   "cell_type": "code",
   "execution_count": null,
   "id": "598df7e8-15e7-43f3-9cea-30f0b9467d55",
   "metadata": {},
   "outputs": [],
   "source": [
    "# nameFile = 'Open_loop_experiment_on_DV_2021-06-09-09h39.txt'\n",
    "nameFile = 'Open_loop_experiment_on_MV_2022-01-27-19h32.txt'\n",
    "\n",
    "if 'MV' in nameFile:\n",
    "    ExpVariable = 'MV'\n",
    "else:    \n",
    "    ExpVariable = 'DV'\n",
    "    \n",
    "print(ExpVariable)    \n",
    "    \n",
    "titleName = nameFile.split('.')[0]    \n",
    "data = pd.read_csv('Data/' + nameFile)\n",
    "t = data['t'].values - data['t'].values[0]\n",
    "MV = data['MV'].values\n",
    "PV = data['PV'].values\n",
    "DV = data['DV'].values"
   ]
  },
  {
   "cell_type": "markdown",
   "id": "c2b47c90-3d92-42eb-9556-7290fa061d71",
   "metadata": {},
   "source": [
    "# Plot loaded data"
   ]
  },
  {
   "cell_type": "code",
   "execution_count": null,
   "id": "b6e5c23d-0859-497f-8f59-efb089fe6d6f",
   "metadata": {},
   "outputs": [],
   "source": [
    "fig, (ax1, ax2, ax3) = plt.subplots(3,1)\n",
    "fig.set_figheight(12)\n",
    "fig.set_figwidth(22)\n",
    "\n",
    "l1, = ax1.step([0,1],[0,100],'b-',linewidth=2,label='MV',where='post')\n",
    "ax1.set_ylabel('Value of MV [%]')\n",
    "ax1.set_title(titleName)\n",
    "ax1.legend(loc='best')\n",
    "\n",
    "l2, = ax2.step([0,1],[0,100],'g-',linewidth=2,label='PV',where='post')\n",
    "ax2.set_ylabel('Value of PV [°C]')\n",
    "ax2.legend(loc='best')\n",
    "\n",
    "l3, = ax3.step([0,1],[0,100],'r-',linewidth=2,label='DV',where='post')\n",
    "ax3.set_xlabel('Time [s]')\n",
    "ax3.set_ylabel('Value of DV [%]')\n",
    "ax3.legend(loc='best')\n",
    "\n",
    "l1.set_data(t,MV)\n",
    "l2.set_data(t,PV)\n",
    "l3.set_data(t,DV)\n",
    "\n",
    "ax1.set_xlim(0, t[-1]+1)\n",
    "ax2.set_xlim(0, t[-1]+1)\n",
    "ax3.set_xlim(0, t[-1]+1)\n",
    "\n",
    "ax1.set_ylim(myRound(np.min(MV),5)-5, myRound(np.max(MV),5)+5)\n",
    "ax2.set_ylim(myRound(np.min(PV),5)-5, myRound(np.max(PV),5)+5)\n",
    "ax3.set_ylim(myRound(np.min(DV),5)-5, myRound(np.max(DV),5)+5)"
   ]
  },
  {
   "cell_type": "markdown",
   "id": "da8cd87b-d413-494b-993f-df08a171a46e",
   "metadata": {},
   "source": [
    "# Clean data"
   ]
  },
  {
   "cell_type": "code",
   "execution_count": null,
   "id": "d194b3fb-e50c-409d-89e1-8d2268f2c9b2",
   "metadata": {},
   "outputs": [],
   "source": [
    "if ExpVariable == 'MV':\n",
    "    tstep = np.argwhere(np.diff(MV) != 0)\n",
    "    tstep = tstep[0][0]\n",
    "    tm = t[tstep:]\n",
    "    tm = tm - tm[0]    \n",
    "    MVstep = MV[tstep + 1] - MV[tstep]\n",
    "    MVm = MV[tstep:]\n",
    "    PVm = PV[tstep:]\n",
    "    PVm = (PVm - PVm[0])/MVstep\n",
    "    MVm = (MVm - MVm[0])/MVstep    \n",
    "else:    \n",
    "    tstep = np.argwhere(np.diff(DV) != 0)\n",
    "    tstep = tstep[0][0]\n",
    "    tm = t[tstep:]\n",
    "    tm = tm - tm[0]\n",
    "    DVstep = DV[tstep + 1] - DV[tstep]    \n",
    "    DVm = DV[tstep:]\n",
    "    PVm = PV[tstep:]\n",
    "    PVm = (PVm - PVm[0])/DVstep\n",
    "    DVm = (DVm - DVm[0])/DVstep"
   ]
  },
  {
   "cell_type": "markdown",
   "id": "b8b0c0ab-b420-4035-af3e-dda46ccd265e",
   "metadata": {},
   "source": [
    "# Plot cleaned data"
   ]
  },
  {
   "cell_type": "code",
   "execution_count": null,
   "id": "c8a5c4ce-032e-4e3d-9aa1-310f7a874447",
   "metadata": {},
   "outputs": [],
   "source": [
    "plt.figure(figsize = (22,22))\n",
    "\n",
    "fig, (ax1, ax2) = plt.subplots(2,1)\n",
    "fig.set_figheight(12)\n",
    "fig.set_figwidth(22)\n",
    "\n",
    "if ExpVariable == 'MV':\n",
    "    l1, = ax1.step([0,1],[0,100],'b-',linewidth=2,label='Cleaned MV',where='post')\n",
    "    ax1.set_ylabel('Value of MV [%]')\n",
    "    ax1.set_title(titleName)\n",
    "    ax1.legend(loc='best')\n",
    "    l1.set_data(tm,MVm)\n",
    "    ax1.set_ylim(myRound(np.min(MVm),1)-0.1, myRound(np.max(MVm),1)+0.1)    \n",
    "else:\n",
    "    l1, = ax1.step([0,1],[0,100],'b-',linewidth=2,label='Cleaned DV',where='post')\n",
    "    ax1.set_ylabel('Value of DV [%]')\n",
    "    ax1.set_title(titleName)\n",
    "    ax1.legend(loc='best')\n",
    "    l1.set_data(tm,DVm)\n",
    "    ax1.set_ylim(myRound(np.min(DVm),1)-0.1, myRound(np.max(DVm),1)+0.1)     \n",
    "\n",
    "l2, = ax2.step([0,1],[0,100],'g-',linewidth=2,label='Cleaned PV',where='post')\n",
    "ax2.set_ylabel('Value of PV [°C]')\n",
    "ax2.legend(loc='best')\n",
    "l2.set_data(tm,PVm)\n",
    "ax2.set_ylim(myRound(np.min(PVm),0.1)-0.1, myRound(np.max(PVm),0.1)+0.1)\n",
    "\n",
    "ax1.set_xlim(0, t[-1]+1)\n",
    "ax2.set_xlim(0, t[-1]+1)"
   ]
  },
  {
   "cell_type": "markdown",
   "id": "ab09e9e0-3a11-40c2-8c6d-024ca31c0563",
   "metadata": {},
   "source": [
    "# Optimisation parameters"
   ]
  },
  {
   "cell_type": "code",
   "execution_count": null,
   "id": "68aabe44-d4b8-4a6a-a937-eede187d216b",
   "metadata": {},
   "outputs": [],
   "source": [
    "Ts = 1.0\n",
    "\n",
    "maxIter = 500\n",
    "\n",
    "p0 = np.zeros(4)\n",
    "p0[0] = 0.65 # K\n",
    "p0[1] = 100.0 # T1\n",
    "p0[2] = 20.0 # T2\n",
    "p0[3] = 10.0 # theta\n",
    "\n",
    "bnds = ((None, None), (0, None), (0, None), (0, None))\n",
    "\n",
    "if ExpVariable == 'MV':\n",
    "    cost = SOPDT_cost(p0,MVm,PVm,Ts)\n",
    "else:\n",
    "    cost = SOPDT_cost(p0,DVm,PVm,Ts)\n",
    "    \n",
    "print('Initial cost: ' + str(cost))"
   ]
  },
  {
   "cell_type": "markdown",
   "id": "d94df1a5-2ca7-4486-b078-fe3695c9930f",
   "metadata": {},
   "source": [
    "# Optimisation"
   ]
  },
  {
   "cell_type": "code",
   "execution_count": null,
   "id": "9c8773e6-2f9a-457f-9ab0-9fe38a9877e2",
   "metadata": {},
   "outputs": [],
   "source": [
    "# optimize K, T1, T2, theta\n",
    "\n",
    "fig, ax1 = plt.subplots()\n",
    "fig.set_figheight(10)\n",
    "fig.set_figwidth(15)\n",
    "l1, = ax1.step([0,1],[0,1],'g-',linewidth=2,label='Experimental PV',where='post')\n",
    "l2, = ax1.step([0,1],[0,1],'r-',linewidth=2,label='Estimated PV',where='post')\n",
    "ax1.set_ylabel('Value of PV [°C]')\n",
    "ax1.set_title('Identification of SOPDT model')\n",
    "ax1.legend(loc='best')\n",
    "\n",
    "if ExpVariable == 'MV':\n",
    "    solution = minimize(SOPDT_cost,p0,args=(MVm,PVm,Ts,(fig,ax1,l1,l2)), method='Powell',bounds=bnds,options={'maxiter': maxIter})\n",
    "    p = solution.x\n",
    "    print('Final SSE Objective: ' + str(SOPDT_cost(p,MVm,PVm,Ts)))\n",
    "else:\n",
    "    solution = minimize(SOPDT_cost,p0,args=(DVm,PVm,Ts,(fig,ax1,l1,l2)), method='Powell',bounds=bnds,options={'maxiter': maxIter})    \n",
    "    p = solution.x\n",
    "    print('Final SSE Objective: ' + str(SOPDT_cost(p,DVm,PVm,Ts)))\n",
    "\n",
    "K = p[0]\n",
    "T1 = np.max([0,p[1]])\n",
    "T2 = np.max([0,p[2]])\n",
    "theta  = np.max([0,p[3]])\n",
    "\n",
    "print('K: ' + str(K))\n",
    "print('T1: ' + str(T1))\n",
    "print('T2: ' + str(T2))\n",
    "print('theta: ' + str(theta))    "
   ]
  },
  {
   "cell_type": "markdown",
   "id": "44101759-dba6-4486-9650-61305f114af1",
   "metadata": {},
   "source": [
    "# Plot experimental and simulated data"
   ]
  },
  {
   "cell_type": "code",
   "execution_count": null,
   "id": "36ea5c2e-43aa-42ff-a85c-92511262ff67",
   "metadata": {},
   "outputs": [],
   "source": [
    "if ExpVariable == 'MV':\n",
    "    PVSim = SOPDT(MVm,K,T1,T2,theta,Ts)\n",
    "else:\n",
    "    PVSim = SOPDT(DVm,K,T1,T2,theta,Ts)    \n",
    "\n",
    "plt.figure(figsize = (22,12))\n",
    "\n",
    "plt.subplot(2,1,1)\n",
    "if ExpVariable == 'MV':\n",
    "    plt.step(tm,MVm,'b-',linewidth=2,label='Cleaned MV',where='post')\n",
    "    plt.ylabel('Value of MV')\n",
    "else:\n",
    "    plt.step(tm,DVm,'b-',linewidth=2,label='Cleaned DV',where='post')\n",
    "    plt.ylabel('Value of DV') \n",
    "    \n",
    "plt.title('Experiment and identified second order plus delay response')\n",
    "plt.legend(loc='best')\n",
    "plt.xlim([0, t[-1]])\n",
    "\n",
    "plt.subplot(2,1,2)\n",
    "plt.step(tm,PVm,'g-',linewidth=2,label='Cleaned experimental data',where='post')\n",
    "plt.step(tm,PVSim,'r-',linewidth=2,label='Identified second order plus delay response',where='post')\n",
    "plt.ylabel('Value of PV')\n",
    "plt.xlabel('Time [s]')\n",
    "plt.legend(loc='best')\n",
    "plt.xlim([0, t[-1]])"
   ]
  }
 ],
 "metadata": {
  "kernelspec": {
   "display_name": "Python 3",
   "language": "python",
   "name": "python3"
  },
  "language_info": {
   "codemirror_mode": {
    "name": "ipython",
    "version": 3
   },
   "file_extension": ".py",
   "mimetype": "text/x-python",
   "name": "python",
   "nbconvert_exporter": "python",
   "pygments_lexer": "ipython3",
   "version": "3.6.13"
  }
 },
 "nbformat": 4,
 "nbformat_minor": 5
}
