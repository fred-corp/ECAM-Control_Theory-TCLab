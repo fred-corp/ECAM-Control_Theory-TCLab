{
 "cells": [
  {
   "cell_type": "markdown",
   "metadata": {},
   "source": [
    "# Import"
   ]
  },
  {
   "cell_type": "code",
   "execution_count": 1,
   "metadata": {},
   "outputs": [],
   "source": [
    "import pandas as pd\n",
    "import matplotlib.pyplot as plt\n",
    "import numpy as np\n",
    "from scipy.optimize import minimize\n",
    "\n",
    "import package_DBR\n",
    "from package_LAB_LL import *\n",
    "from package_DBR import *"
   ]
  },
  {
   "cell_type": "markdown",
   "metadata": {},
   "source": [
    "## LeadLag_System"
   ]
  },
  {
   "cell_type": "code",
   "execution_count": 2,
   "metadata": {},
   "outputs": [
    {
     "name": "stdout",
     "output_type": "stream",
     "text": [
      "Help on function LeadLag_System in module package_LAB_LL:\n",
      "\n",
      "LeadLag_System(MV, Kp, Tlag, Tlead, Ts, PV, PVInit=0, method='EBD')\n",
      "    The function \"FO_RT\" needs to be included in a \"for or while loop\".\n",
      "    \n",
      "    :MV: input vector\n",
      "    :Kp: process gain\n",
      "    :Tlag: lag time constant [s]\n",
      "    :Tlead: lead time constant [s]\n",
      "    :Ts: sampling period [s]\n",
      "    :PV: output vector\n",
      "    :PVInit: (optional: default value is 0)\n",
      "    :method: discretisation method (optional: default value is 'EBD')\n",
      "      EBD: Euler Backward difference\n",
      "      EFD: Euler Forward difference\n",
      "      TRAP: Trapezoïdal method\n",
      "    \n",
      "    The function \"FO_RT\" appends a value to the output vector \"PV\".\n",
      "    The appended value is obtained from a recurrent equation that depends on the discretisation method.\n",
      "\n"
     ]
    }
   ],
   "source": [
    "help(LeadLag_System)"
   ]
  },
  {
   "cell_type": "raw",
   "metadata": {},
   "source": [
    "LeadLag_System(MV,Kp,Tlag,Tlead,Ts,PV,PVInit=0,method='EBD'):\n",
    "\n",
    "The function \"LeadLag_System\" needs to be included in a \"for or while loop\".\n",
    "\n",
    ":MV: input vector\n",
    ":Kp: process gain\n",
    ":Tlag: lag time constant [s]\n",
    ":Tlead: lead time constant [s]\n",
    ":Ts: sampling period [s]\n",
    ":PV: output vector\n",
    ":PVInit: (optional: default value is 0)\n",
    ":method: discretisation method (optional: default value is 'EBD')\n",
    "    EBD: Euler Backward difference\n",
    "    EFD: Euler Forward difference\n",
    "\n",
    "The function \"LeadLag_System\" appends a value to the output vector \"PV\".\n",
    "The appended value is obtained from a recurrent equation that depends on the discretisation method."
   ]
  },
  {
   "cell_type": "code",
   "execution_count": 3,
   "metadata": {},
   "outputs": [
    {
     "data": {
      "text/plain": [
       "(0.0, 100.0)"
      ]
     },
     "execution_count": 3,
     "metadata": {},
     "output_type": "execute_result"
    },
    {
     "data": {
      "image/png": "[encoded data removed]",
      "text/plain": [
       "<Figure size 1080x648 with 2 Axes>"
      ]
     },
     "metadata": {
      "needs_background": "light"
     },
     "output_type": "display_data"
    }
   ],
   "source": [
    "TSim = 100\n",
    "Ts = 0.1\n",
    "N = int(TSim/Ts) + 1\n",
    "\n",
    "# Path for MV\n",
    "MVPath = {0: 0, 5: 1, 50: 2, 80: 3, TSim: 3}\n",
    "\n",
    "t = []\n",
    "MV = []\n",
    "MVDelay = []\n",
    "PV_EBD = []\n",
    "PV_EFD = []\n",
    "\n",
    "# Parameters\n",
    "Kp = 1\n",
    "Tlead = 1\n",
    "Tlag = 2\n",
    "theta = 10\n",
    "\n",
    "for i in range(0,N):\n",
    "    t.append(i*Ts)\n",
    "    SelectPath_RT(MVPath,t,MV)\n",
    "    Delay_RT(MV,theta,Ts,MVDelay)\n",
    "    LeadLag_System(MVDelay,Kp,Tlag,Tlead,Ts,PV_EBD)\n",
    "    LeadLag_System(MVDelay,Kp,Tlag,Tlead,Ts,PV_EFD,0,'EFD')\n",
    "    \n",
    "plt.figure(figsize = (15,9))\n",
    "\n",
    "plt.subplot(2,1,1)\n",
    "plt.step(t,MV,'b-',label='MV',where='post')\n",
    "plt.step(t,MVDelay,'b-',linewidth=0.5,label='MV plus delay',where='post')\n",
    "plt.ylabel('Value of MV')\n",
    "plt.title('First order plus delay response')\n",
    "plt.legend(loc='best')\n",
    "plt.xlim([0, TSim])\n",
    "\n",
    "plt.subplot(2,1,2)\n",
    "# plt.step(t,PV_EBD,'g-',label='First order response plus delay (EBD)',where='post')\n",
    "plt.step(t,PV_EFD,'lime',label='Lead-Lag response',where='post')\n",
    "plt.ylabel('Value of PV')\n",
    "plt.xlabel('Time [s]')\n",
    "plt.legend(loc='best')\n",
    "plt.xlim([0, TSim])   "
   ]
  },
  {
   "cell_type": "code",
   "execution_count": null,
   "metadata": {},
   "outputs": [],
   "source": []
  },
  {
   "cell_type": "code",
   "execution_count": null,
   "metadata": {},
   "outputs": [],
   "source": []
  }
 ],
 "metadata": {
  "interpreter": {
   "hash": "e58f8864877de5fa97ce919018d21cff77ca6b7d96a29bf89e5d31cd3ac2c8e4"
  },
  "kernelspec": {
   "display_name": "Python 3 (ipykernel)",
   "language": "python",
   "name": "python3"
  },
  "language_info": {
   "codemirror_mode": {
    "name": "ipython",
    "version": 3
   },
   "file_extension": ".py",
   "mimetype": "text/x-python",
   "name": "python",
   "nbconvert_exporter": "python",
   "pygments_lexer": "ipython3",
   "version": "3.9.1"
  }
 },
 "nbformat": 4,
 "nbformat_minor": 2
}
